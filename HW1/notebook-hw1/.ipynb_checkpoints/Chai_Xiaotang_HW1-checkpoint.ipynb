{
 "cells": [
  {
   "cell_type": "markdown",
   "metadata": {},
   "source": [
    "# Xiaotang Chai--xiaotangchai--4691635851"
   ]
  },
  {
   "cell_type": "code",
   "execution_count": 73,
   "metadata": {},
   "outputs": [],
   "source": [
    "from scipy.io import arff\n",
    "import pandas as pd\n",
    "import numpy as np\n",
    "import matplotlib.pyplot as plt\n",
    "from sklearn.model_selection import validation_curve\n",
    "from sklearn.neighbors import KNeighborsClassifier\n",
    "import seaborn as sns\n",
    "from sklearn.metrics import confusion_matrix\n",
    "from sklearn.metrics import accuracy_score\n",
    "from sklearn.metrics import f1_score\n",
    "import math\n",
    "from sklearn.neighbors import NearestNeighbors"
   ]
  },
  {
   "cell_type": "code",
   "execution_count": 74,
   "metadata": {},
   "outputs": [],
   "source": [
    "data=pd.read_csv(\"/Users/chaixiaotang/Documents/GitHub/homework-1-xiaotangchai/data/vertebral_column_data/column_2C.dat\",sep='\\s+',header=None)"
   ]
  },
  {
   "cell_type": "code",
   "execution_count": 75,
   "metadata": {},
   "outputs": [],
   "source": [
    "df = pd.DataFrame(data)"
   ]
  },
  {
   "cell_type": "code",
   "execution_count": 76,
   "metadata": {
    "scrolled": true
   },
   "outputs": [],
   "source": [
    "df.columns=[\"pelvic_incidence\",\"pelvic_tilt\",\"lumbar_lordosis_angle\",\"sacral_slope\",\"pelvic_radius\",\"degree_spondylolisthesis\",\"class\"]"
   ]
  },
  {
   "cell_type": "code",
   "execution_count": 77,
   "metadata": {},
   "outputs": [
    {
     "data": {
      "text/html": [
       "<div>\n",
       "<style scoped>\n",
       "    .dataframe tbody tr th:only-of-type {\n",
       "        vertical-align: middle;\n",
       "    }\n",
       "\n",
       "    .dataframe tbody tr th {\n",
       "        vertical-align: top;\n",
       "    }\n",
       "\n",
       "    .dataframe thead th {\n",
       "        text-align: right;\n",
       "    }\n",
       "</style>\n",
       "<table border=\"1\" class=\"dataframe\">\n",
       "  <thead>\n",
       "    <tr style=\"text-align: right;\">\n",
       "      <th></th>\n",
       "      <th>pelvic_incidence</th>\n",
       "      <th>pelvic_tilt</th>\n",
       "      <th>lumbar_lordosis_angle</th>\n",
       "      <th>sacral_slope</th>\n",
       "      <th>pelvic_radius</th>\n",
       "      <th>degree_spondylolisthesis</th>\n",
       "      <th>class</th>\n",
       "    </tr>\n",
       "  </thead>\n",
       "  <tbody>\n",
       "    <tr>\n",
       "      <th>0</th>\n",
       "      <td>63.03</td>\n",
       "      <td>22.55</td>\n",
       "      <td>39.61</td>\n",
       "      <td>40.48</td>\n",
       "      <td>98.67</td>\n",
       "      <td>-0.25</td>\n",
       "      <td>AB</td>\n",
       "    </tr>\n",
       "    <tr>\n",
       "      <th>1</th>\n",
       "      <td>39.06</td>\n",
       "      <td>10.06</td>\n",
       "      <td>25.02</td>\n",
       "      <td>29.00</td>\n",
       "      <td>114.41</td>\n",
       "      <td>4.56</td>\n",
       "      <td>AB</td>\n",
       "    </tr>\n",
       "    <tr>\n",
       "      <th>2</th>\n",
       "      <td>68.83</td>\n",
       "      <td>22.22</td>\n",
       "      <td>50.09</td>\n",
       "      <td>46.61</td>\n",
       "      <td>105.99</td>\n",
       "      <td>-3.53</td>\n",
       "      <td>AB</td>\n",
       "    </tr>\n",
       "    <tr>\n",
       "      <th>3</th>\n",
       "      <td>69.30</td>\n",
       "      <td>24.65</td>\n",
       "      <td>44.31</td>\n",
       "      <td>44.64</td>\n",
       "      <td>101.87</td>\n",
       "      <td>11.21</td>\n",
       "      <td>AB</td>\n",
       "    </tr>\n",
       "    <tr>\n",
       "      <th>4</th>\n",
       "      <td>49.71</td>\n",
       "      <td>9.65</td>\n",
       "      <td>28.32</td>\n",
       "      <td>40.06</td>\n",
       "      <td>108.17</td>\n",
       "      <td>7.92</td>\n",
       "      <td>AB</td>\n",
       "    </tr>\n",
       "  </tbody>\n",
       "</table>\n",
       "</div>"
      ],
      "text/plain": [
       "   pelvic_incidence  pelvic_tilt  lumbar_lordosis_angle  sacral_slope  \\\n",
       "0             63.03        22.55                  39.61         40.48   \n",
       "1             39.06        10.06                  25.02         29.00   \n",
       "2             68.83        22.22                  50.09         46.61   \n",
       "3             69.30        24.65                  44.31         44.64   \n",
       "4             49.71         9.65                  28.32         40.06   \n",
       "\n",
       "   pelvic_radius  degree_spondylolisthesis class  \n",
       "0          98.67                     -0.25    AB  \n",
       "1         114.41                      4.56    AB  \n",
       "2         105.99                     -3.53    AB  \n",
       "3         101.87                     11.21    AB  \n",
       "4         108.17                      7.92    AB  "
      ]
     },
     "execution_count": 77,
     "metadata": {},
     "output_type": "execute_result"
    }
   ],
   "source": [
    "df.head()"
   ]
  },
  {
   "cell_type": "code",
   "execution_count": 78,
   "metadata": {},
   "outputs": [],
   "source": [
    "df[\"class1\"]=0"
   ]
  },
  {
   "cell_type": "code",
   "execution_count": 79,
   "metadata": {},
   "outputs": [
    {
     "data": {
      "text/html": [
       "<div>\n",
       "<style scoped>\n",
       "    .dataframe tbody tr th:only-of-type {\n",
       "        vertical-align: middle;\n",
       "    }\n",
       "\n",
       "    .dataframe tbody tr th {\n",
       "        vertical-align: top;\n",
       "    }\n",
       "\n",
       "    .dataframe thead th {\n",
       "        text-align: right;\n",
       "    }\n",
       "</style>\n",
       "<table border=\"1\" class=\"dataframe\">\n",
       "  <thead>\n",
       "    <tr style=\"text-align: right;\">\n",
       "      <th></th>\n",
       "      <th>pelvic_incidence</th>\n",
       "      <th>pelvic_tilt</th>\n",
       "      <th>lumbar_lordosis_angle</th>\n",
       "      <th>sacral_slope</th>\n",
       "      <th>pelvic_radius</th>\n",
       "      <th>degree_spondylolisthesis</th>\n",
       "      <th>class</th>\n",
       "      <th>class1</th>\n",
       "    </tr>\n",
       "  </thead>\n",
       "  <tbody>\n",
       "    <tr>\n",
       "      <th>0</th>\n",
       "      <td>63.03</td>\n",
       "      <td>22.55</td>\n",
       "      <td>39.61</td>\n",
       "      <td>40.48</td>\n",
       "      <td>98.67</td>\n",
       "      <td>-0.25</td>\n",
       "      <td>AB</td>\n",
       "      <td>0</td>\n",
       "    </tr>\n",
       "    <tr>\n",
       "      <th>1</th>\n",
       "      <td>39.06</td>\n",
       "      <td>10.06</td>\n",
       "      <td>25.02</td>\n",
       "      <td>29.00</td>\n",
       "      <td>114.41</td>\n",
       "      <td>4.56</td>\n",
       "      <td>AB</td>\n",
       "      <td>0</td>\n",
       "    </tr>\n",
       "    <tr>\n",
       "      <th>2</th>\n",
       "      <td>68.83</td>\n",
       "      <td>22.22</td>\n",
       "      <td>50.09</td>\n",
       "      <td>46.61</td>\n",
       "      <td>105.99</td>\n",
       "      <td>-3.53</td>\n",
       "      <td>AB</td>\n",
       "      <td>0</td>\n",
       "    </tr>\n",
       "    <tr>\n",
       "      <th>3</th>\n",
       "      <td>69.30</td>\n",
       "      <td>24.65</td>\n",
       "      <td>44.31</td>\n",
       "      <td>44.64</td>\n",
       "      <td>101.87</td>\n",
       "      <td>11.21</td>\n",
       "      <td>AB</td>\n",
       "      <td>0</td>\n",
       "    </tr>\n",
       "    <tr>\n",
       "      <th>4</th>\n",
       "      <td>49.71</td>\n",
       "      <td>9.65</td>\n",
       "      <td>28.32</td>\n",
       "      <td>40.06</td>\n",
       "      <td>108.17</td>\n",
       "      <td>7.92</td>\n",
       "      <td>AB</td>\n",
       "      <td>0</td>\n",
       "    </tr>\n",
       "  </tbody>\n",
       "</table>\n",
       "</div>"
      ],
      "text/plain": [
       "   pelvic_incidence  pelvic_tilt  lumbar_lordosis_angle  sacral_slope  \\\n",
       "0             63.03        22.55                  39.61         40.48   \n",
       "1             39.06        10.06                  25.02         29.00   \n",
       "2             68.83        22.22                  50.09         46.61   \n",
       "3             69.30        24.65                  44.31         44.64   \n",
       "4             49.71         9.65                  28.32         40.06   \n",
       "\n",
       "   pelvic_radius  degree_spondylolisthesis class  class1  \n",
       "0          98.67                     -0.25    AB       0  \n",
       "1         114.41                      4.56    AB       0  \n",
       "2         105.99                     -3.53    AB       0  \n",
       "3         101.87                     11.21    AB       0  \n",
       "4         108.17                      7.92    AB       0  "
      ]
     },
     "execution_count": 79,
     "metadata": {},
     "output_type": "execute_result"
    }
   ],
   "source": [
    "df.head()"
   ]
  },
  {
   "cell_type": "code",
   "execution_count": 80,
   "metadata": {},
   "outputs": [
    {
     "name": "stderr",
     "output_type": "stream",
     "text": [
      "<ipython-input-80-f823aa54a92f>:3: SettingWithCopyWarning: \n",
      "A value is trying to be set on a copy of a slice from a DataFrame\n",
      "\n",
      "See the caveats in the documentation: https://pandas.pydata.org/pandas-docs/stable/user_guide/indexing.html#returning-a-view-versus-a-copy\n",
      "  df[\"class1\"][i]=1\n",
      "<ipython-input-80-f823aa54a92f>:5: SettingWithCopyWarning: \n",
      "A value is trying to be set on a copy of a slice from a DataFrame\n",
      "\n",
      "See the caveats in the documentation: https://pandas.pydata.org/pandas-docs/stable/user_guide/indexing.html#returning-a-view-versus-a-copy\n",
      "  df[\"class1\"][i]=0\n"
     ]
    }
   ],
   "source": [
    "for i in range(310):\n",
    "  if df[\"class\"][i]==\"AB\":\n",
    "        df[\"class1\"][i]=1\n",
    "  elif df[\"class\"][i]==\"NO\":\n",
    "        df[\"class1\"][i]=0      "
   ]
  },
  {
   "cell_type": "code",
   "execution_count": 81,
   "metadata": {},
   "outputs": [
    {
     "data": {
      "text/html": [
       "<div>\n",
       "<style scoped>\n",
       "    .dataframe tbody tr th:only-of-type {\n",
       "        vertical-align: middle;\n",
       "    }\n",
       "\n",
       "    .dataframe tbody tr th {\n",
       "        vertical-align: top;\n",
       "    }\n",
       "\n",
       "    .dataframe thead th {\n",
       "        text-align: right;\n",
       "    }\n",
       "</style>\n",
       "<table border=\"1\" class=\"dataframe\">\n",
       "  <thead>\n",
       "    <tr style=\"text-align: right;\">\n",
       "      <th></th>\n",
       "      <th>pelvic_incidence</th>\n",
       "      <th>pelvic_tilt</th>\n",
       "      <th>lumbar_lordosis_angle</th>\n",
       "      <th>sacral_slope</th>\n",
       "      <th>pelvic_radius</th>\n",
       "      <th>degree_spondylolisthesis</th>\n",
       "      <th>class</th>\n",
       "      <th>class1</th>\n",
       "    </tr>\n",
       "  </thead>\n",
       "  <tbody>\n",
       "    <tr>\n",
       "      <th>0</th>\n",
       "      <td>63.03</td>\n",
       "      <td>22.55</td>\n",
       "      <td>39.61</td>\n",
       "      <td>40.48</td>\n",
       "      <td>98.67</td>\n",
       "      <td>-0.25</td>\n",
       "      <td>AB</td>\n",
       "      <td>1</td>\n",
       "    </tr>\n",
       "    <tr>\n",
       "      <th>1</th>\n",
       "      <td>39.06</td>\n",
       "      <td>10.06</td>\n",
       "      <td>25.02</td>\n",
       "      <td>29.00</td>\n",
       "      <td>114.41</td>\n",
       "      <td>4.56</td>\n",
       "      <td>AB</td>\n",
       "      <td>1</td>\n",
       "    </tr>\n",
       "    <tr>\n",
       "      <th>2</th>\n",
       "      <td>68.83</td>\n",
       "      <td>22.22</td>\n",
       "      <td>50.09</td>\n",
       "      <td>46.61</td>\n",
       "      <td>105.99</td>\n",
       "      <td>-3.53</td>\n",
       "      <td>AB</td>\n",
       "      <td>1</td>\n",
       "    </tr>\n",
       "    <tr>\n",
       "      <th>3</th>\n",
       "      <td>69.30</td>\n",
       "      <td>24.65</td>\n",
       "      <td>44.31</td>\n",
       "      <td>44.64</td>\n",
       "      <td>101.87</td>\n",
       "      <td>11.21</td>\n",
       "      <td>AB</td>\n",
       "      <td>1</td>\n",
       "    </tr>\n",
       "    <tr>\n",
       "      <th>4</th>\n",
       "      <td>49.71</td>\n",
       "      <td>9.65</td>\n",
       "      <td>28.32</td>\n",
       "      <td>40.06</td>\n",
       "      <td>108.17</td>\n",
       "      <td>7.92</td>\n",
       "      <td>AB</td>\n",
       "      <td>1</td>\n",
       "    </tr>\n",
       "    <tr>\n",
       "      <th>...</th>\n",
       "      <td>...</td>\n",
       "      <td>...</td>\n",
       "      <td>...</td>\n",
       "      <td>...</td>\n",
       "      <td>...</td>\n",
       "      <td>...</td>\n",
       "      <td>...</td>\n",
       "      <td>...</td>\n",
       "    </tr>\n",
       "    <tr>\n",
       "      <th>305</th>\n",
       "      <td>47.90</td>\n",
       "      <td>13.62</td>\n",
       "      <td>36.00</td>\n",
       "      <td>34.29</td>\n",
       "      <td>117.45</td>\n",
       "      <td>-4.25</td>\n",
       "      <td>NO</td>\n",
       "      <td>0</td>\n",
       "    </tr>\n",
       "    <tr>\n",
       "      <th>306</th>\n",
       "      <td>53.94</td>\n",
       "      <td>20.72</td>\n",
       "      <td>29.22</td>\n",
       "      <td>33.22</td>\n",
       "      <td>114.37</td>\n",
       "      <td>-0.42</td>\n",
       "      <td>NO</td>\n",
       "      <td>0</td>\n",
       "    </tr>\n",
       "    <tr>\n",
       "      <th>307</th>\n",
       "      <td>61.45</td>\n",
       "      <td>22.69</td>\n",
       "      <td>46.17</td>\n",
       "      <td>38.75</td>\n",
       "      <td>125.67</td>\n",
       "      <td>-2.71</td>\n",
       "      <td>NO</td>\n",
       "      <td>0</td>\n",
       "    </tr>\n",
       "    <tr>\n",
       "      <th>308</th>\n",
       "      <td>45.25</td>\n",
       "      <td>8.69</td>\n",
       "      <td>41.58</td>\n",
       "      <td>36.56</td>\n",
       "      <td>118.55</td>\n",
       "      <td>0.21</td>\n",
       "      <td>NO</td>\n",
       "      <td>0</td>\n",
       "    </tr>\n",
       "    <tr>\n",
       "      <th>309</th>\n",
       "      <td>33.84</td>\n",
       "      <td>5.07</td>\n",
       "      <td>36.64</td>\n",
       "      <td>28.77</td>\n",
       "      <td>123.95</td>\n",
       "      <td>-0.20</td>\n",
       "      <td>NO</td>\n",
       "      <td>0</td>\n",
       "    </tr>\n",
       "  </tbody>\n",
       "</table>\n",
       "<p>310 rows × 8 columns</p>\n",
       "</div>"
      ],
      "text/plain": [
       "     pelvic_incidence  pelvic_tilt  lumbar_lordosis_angle  sacral_slope  \\\n",
       "0               63.03        22.55                  39.61         40.48   \n",
       "1               39.06        10.06                  25.02         29.00   \n",
       "2               68.83        22.22                  50.09         46.61   \n",
       "3               69.30        24.65                  44.31         44.64   \n",
       "4               49.71         9.65                  28.32         40.06   \n",
       "..                ...          ...                    ...           ...   \n",
       "305             47.90        13.62                  36.00         34.29   \n",
       "306             53.94        20.72                  29.22         33.22   \n",
       "307             61.45        22.69                  46.17         38.75   \n",
       "308             45.25         8.69                  41.58         36.56   \n",
       "309             33.84         5.07                  36.64         28.77   \n",
       "\n",
       "     pelvic_radius  degree_spondylolisthesis class  class1  \n",
       "0            98.67                     -0.25    AB       1  \n",
       "1           114.41                      4.56    AB       1  \n",
       "2           105.99                     -3.53    AB       1  \n",
       "3           101.87                     11.21    AB       1  \n",
       "4           108.17                      7.92    AB       1  \n",
       "..             ...                       ...   ...     ...  \n",
       "305         117.45                     -4.25    NO       0  \n",
       "306         114.37                     -0.42    NO       0  \n",
       "307         125.67                     -2.71    NO       0  \n",
       "308         118.55                      0.21    NO       0  \n",
       "309         123.95                     -0.20    NO       0  \n",
       "\n",
       "[310 rows x 8 columns]"
      ]
     },
     "execution_count": 81,
     "metadata": {},
     "output_type": "execute_result"
    }
   ],
   "source": [
    "df"
   ]
  },
  {
   "cell_type": "code",
   "execution_count": 82,
   "metadata": {},
   "outputs": [
    {
     "data": {
      "text/html": [
       "<div>\n",
       "<style scoped>\n",
       "    .dataframe tbody tr th:only-of-type {\n",
       "        vertical-align: middle;\n",
       "    }\n",
       "\n",
       "    .dataframe tbody tr th {\n",
       "        vertical-align: top;\n",
       "    }\n",
       "\n",
       "    .dataframe thead th {\n",
       "        text-align: right;\n",
       "    }\n",
       "</style>\n",
       "<table border=\"1\" class=\"dataframe\">\n",
       "  <thead>\n",
       "    <tr style=\"text-align: right;\">\n",
       "      <th></th>\n",
       "      <th>pelvic_incidence</th>\n",
       "      <th>pelvic_tilt</th>\n",
       "      <th>lumbar_lordosis_angle</th>\n",
       "      <th>sacral_slope</th>\n",
       "      <th>pelvic_radius</th>\n",
       "      <th>degree_spondylolisthesis</th>\n",
       "      <th>class1</th>\n",
       "    </tr>\n",
       "  </thead>\n",
       "  <tbody>\n",
       "    <tr>\n",
       "      <th>0</th>\n",
       "      <td>63.03</td>\n",
       "      <td>22.55</td>\n",
       "      <td>39.61</td>\n",
       "      <td>40.48</td>\n",
       "      <td>98.67</td>\n",
       "      <td>-0.25</td>\n",
       "      <td>1</td>\n",
       "    </tr>\n",
       "    <tr>\n",
       "      <th>1</th>\n",
       "      <td>39.06</td>\n",
       "      <td>10.06</td>\n",
       "      <td>25.02</td>\n",
       "      <td>29.00</td>\n",
       "      <td>114.41</td>\n",
       "      <td>4.56</td>\n",
       "      <td>1</td>\n",
       "    </tr>\n",
       "    <tr>\n",
       "      <th>2</th>\n",
       "      <td>68.83</td>\n",
       "      <td>22.22</td>\n",
       "      <td>50.09</td>\n",
       "      <td>46.61</td>\n",
       "      <td>105.99</td>\n",
       "      <td>-3.53</td>\n",
       "      <td>1</td>\n",
       "    </tr>\n",
       "    <tr>\n",
       "      <th>3</th>\n",
       "      <td>69.30</td>\n",
       "      <td>24.65</td>\n",
       "      <td>44.31</td>\n",
       "      <td>44.64</td>\n",
       "      <td>101.87</td>\n",
       "      <td>11.21</td>\n",
       "      <td>1</td>\n",
       "    </tr>\n",
       "    <tr>\n",
       "      <th>4</th>\n",
       "      <td>49.71</td>\n",
       "      <td>9.65</td>\n",
       "      <td>28.32</td>\n",
       "      <td>40.06</td>\n",
       "      <td>108.17</td>\n",
       "      <td>7.92</td>\n",
       "      <td>1</td>\n",
       "    </tr>\n",
       "  </tbody>\n",
       "</table>\n",
       "</div>"
      ],
      "text/plain": [
       "   pelvic_incidence  pelvic_tilt  lumbar_lordosis_angle  sacral_slope  \\\n",
       "0             63.03        22.55                  39.61         40.48   \n",
       "1             39.06        10.06                  25.02         29.00   \n",
       "2             68.83        22.22                  50.09         46.61   \n",
       "3             69.30        24.65                  44.31         44.64   \n",
       "4             49.71         9.65                  28.32         40.06   \n",
       "\n",
       "   pelvic_radius  degree_spondylolisthesis  class1  \n",
       "0          98.67                     -0.25       1  \n",
       "1         114.41                      4.56       1  \n",
       "2         105.99                     -3.53       1  \n",
       "3         101.87                     11.21       1  \n",
       "4         108.17                      7.92       1  "
      ]
     },
     "execution_count": 82,
     "metadata": {},
     "output_type": "execute_result"
    }
   ],
   "source": [
    "df2=df.drop([\"class\"],axis=1)\n",
    "df2.head()"
   ]
  },
  {
   "cell_type": "markdown",
   "metadata": {},
   "source": [
    "# Question B (i)"
   ]
  },
  {
   "cell_type": "code",
   "execution_count": 83,
   "metadata": {},
   "outputs": [
    {
     "data": {
      "text/plain": [
       "<seaborn.axisgrid.PairGrid at 0x7fede8cdaa30>"
      ]
     },
     "execution_count": 83,
     "metadata": {},
     "output_type": "execute_result"
    },
    {
     "data": {
      "image/png": "[encoded data removed]",
      "text/plain": [
       "<Figure size 1122.38x1080 with 42 Axes>"
      ]
     },
     "metadata": {
      "needs_background": "light"
     },
     "output_type": "display_data"
    }
   ],
   "source": [
    "sns.pairplot(df2, hue=\"class1\")"
   ]
  },
  {
   "cell_type": "markdown",
   "metadata": {},
   "source": [
    "# Question B (ii)"
   ]
  },
  {
   "cell_type": "code",
   "execution_count": 84,
   "metadata": {},
   "outputs": [
    {
     "data": {
      "text/plain": [
       "<Figure size 648x648 with 0 Axes>"
      ]
     },
     "execution_count": 84,
     "metadata": {},
     "output_type": "execute_result"
    },
    {
     "data": {
      "text/plain": [
       "<Figure size 648x648 with 0 Axes>"
      ]
     },
     "metadata": {},
     "output_type": "display_data"
    }
   ],
   "source": [
    "plt.figure(figsize=(9, 9))"
   ]
  },
  {
   "cell_type": "code",
   "execution_count": 85,
   "metadata": {},
   "outputs": [
    {
     "data": {
      "image/png": "[encoded data removed]",
      "text/plain": [
       "<Figure size 432x288 with 6 Axes>"
      ]
     },
     "metadata": {
      "needs_background": "light"
     },
     "output_type": "display_data"
    }
   ],
   "source": [
    "plt.subplot(2,3,1)\n",
    "sns.boxplot(x=df['class1'],y=df['pelvic_incidence'])\n",
    "plt.subplot(2,3,2)\n",
    "sns.boxplot(x=df['class1'],y=df['pelvic_tilt'])\n",
    "plt.subplot(2,3,3)\n",
    "sns.boxplot(x=df['class1'],y=df['lumbar_lordosis_angle'])\n",
    "plt.subplot(2,3,4)\n",
    "sns.boxplot(x=df['class1'],y=df['sacral_slope'])\n",
    "plt.subplot(2,3,5)\n",
    "sns.boxplot(x=df['class1'],y=df['pelvic_radius'])\n",
    "plt.subplot(2,3,6)\n",
    "sns.boxplot(x=df['class1'],y=df['degree_spondylolisthesis'])\n",
    "plt.tight_layout()\n",
    "plt.show()"
   ]
  },
  {
   "cell_type": "code",
   "execution_count": 86,
   "metadata": {},
   "outputs": [],
   "source": [
    "df2_0=df2.loc[df['class1']==0]\n",
    "df2_1=df2.loc[df['class1']==1]"
   ]
  },
  {
   "cell_type": "code",
   "execution_count": 87,
   "metadata": {},
   "outputs": [
    {
     "data": {
      "text/html": [
       "<div>\n",
       "<style scoped>\n",
       "    .dataframe tbody tr th:only-of-type {\n",
       "        vertical-align: middle;\n",
       "    }\n",
       "\n",
       "    .dataframe tbody tr th {\n",
       "        vertical-align: top;\n",
       "    }\n",
       "\n",
       "    .dataframe thead th {\n",
       "        text-align: right;\n",
       "    }\n",
       "</style>\n",
       "<table border=\"1\" class=\"dataframe\">\n",
       "  <thead>\n",
       "    <tr style=\"text-align: right;\">\n",
       "      <th></th>\n",
       "      <th>pelvic_incidence</th>\n",
       "      <th>pelvic_tilt</th>\n",
       "      <th>lumbar_lordosis_angle</th>\n",
       "      <th>sacral_slope</th>\n",
       "      <th>pelvic_radius</th>\n",
       "      <th>degree_spondylolisthesis</th>\n",
       "      <th>class1</th>\n",
       "    </tr>\n",
       "  </thead>\n",
       "  <tbody>\n",
       "    <tr>\n",
       "      <th>210</th>\n",
       "      <td>38.51</td>\n",
       "      <td>16.96</td>\n",
       "      <td>35.11</td>\n",
       "      <td>21.54</td>\n",
       "      <td>127.63</td>\n",
       "      <td>7.99</td>\n",
       "      <td>0</td>\n",
       "    </tr>\n",
       "    <tr>\n",
       "      <th>211</th>\n",
       "      <td>54.92</td>\n",
       "      <td>18.97</td>\n",
       "      <td>51.60</td>\n",
       "      <td>35.95</td>\n",
       "      <td>125.85</td>\n",
       "      <td>2.00</td>\n",
       "      <td>0</td>\n",
       "    </tr>\n",
       "    <tr>\n",
       "      <th>212</th>\n",
       "      <td>44.36</td>\n",
       "      <td>8.95</td>\n",
       "      <td>46.90</td>\n",
       "      <td>35.42</td>\n",
       "      <td>129.22</td>\n",
       "      <td>4.99</td>\n",
       "      <td>0</td>\n",
       "    </tr>\n",
       "    <tr>\n",
       "      <th>213</th>\n",
       "      <td>48.32</td>\n",
       "      <td>17.45</td>\n",
       "      <td>48.00</td>\n",
       "      <td>30.87</td>\n",
       "      <td>128.98</td>\n",
       "      <td>-0.91</td>\n",
       "      <td>0</td>\n",
       "    </tr>\n",
       "    <tr>\n",
       "      <th>214</th>\n",
       "      <td>45.70</td>\n",
       "      <td>10.66</td>\n",
       "      <td>42.58</td>\n",
       "      <td>35.04</td>\n",
       "      <td>130.18</td>\n",
       "      <td>-3.39</td>\n",
       "      <td>0</td>\n",
       "    </tr>\n",
       "  </tbody>\n",
       "</table>\n",
       "</div>"
      ],
      "text/plain": [
       "     pelvic_incidence  pelvic_tilt  lumbar_lordosis_angle  sacral_slope  \\\n",
       "210             38.51        16.96                  35.11         21.54   \n",
       "211             54.92        18.97                  51.60         35.95   \n",
       "212             44.36         8.95                  46.90         35.42   \n",
       "213             48.32        17.45                  48.00         30.87   \n",
       "214             45.70        10.66                  42.58         35.04   \n",
       "\n",
       "     pelvic_radius  degree_spondylolisthesis  class1  \n",
       "210         127.63                      7.99       0  \n",
       "211         125.85                      2.00       0  \n",
       "212         129.22                      4.99       0  \n",
       "213         128.98                     -0.91       0  \n",
       "214         130.18                     -3.39       0  "
      ]
     },
     "execution_count": 87,
     "metadata": {},
     "output_type": "execute_result"
    }
   ],
   "source": [
    "df2_0.head()"
   ]
  },
  {
   "cell_type": "code",
   "execution_count": 88,
   "metadata": {},
   "outputs": [
    {
     "data": {
      "text/html": [
       "<div>\n",
       "<style scoped>\n",
       "    .dataframe tbody tr th:only-of-type {\n",
       "        vertical-align: middle;\n",
       "    }\n",
       "\n",
       "    .dataframe tbody tr th {\n",
       "        vertical-align: top;\n",
       "    }\n",
       "\n",
       "    .dataframe thead th {\n",
       "        text-align: right;\n",
       "    }\n",
       "</style>\n",
       "<table border=\"1\" class=\"dataframe\">\n",
       "  <thead>\n",
       "    <tr style=\"text-align: right;\">\n",
       "      <th></th>\n",
       "      <th>pelvic_incidence</th>\n",
       "      <th>pelvic_tilt</th>\n",
       "      <th>lumbar_lordosis_angle</th>\n",
       "      <th>sacral_slope</th>\n",
       "      <th>pelvic_radius</th>\n",
       "      <th>degree_spondylolisthesis</th>\n",
       "      <th>class1</th>\n",
       "    </tr>\n",
       "  </thead>\n",
       "  <tbody>\n",
       "    <tr>\n",
       "      <th>0</th>\n",
       "      <td>63.03</td>\n",
       "      <td>22.55</td>\n",
       "      <td>39.61</td>\n",
       "      <td>40.48</td>\n",
       "      <td>98.67</td>\n",
       "      <td>-0.25</td>\n",
       "      <td>1</td>\n",
       "    </tr>\n",
       "    <tr>\n",
       "      <th>1</th>\n",
       "      <td>39.06</td>\n",
       "      <td>10.06</td>\n",
       "      <td>25.02</td>\n",
       "      <td>29.00</td>\n",
       "      <td>114.41</td>\n",
       "      <td>4.56</td>\n",
       "      <td>1</td>\n",
       "    </tr>\n",
       "    <tr>\n",
       "      <th>2</th>\n",
       "      <td>68.83</td>\n",
       "      <td>22.22</td>\n",
       "      <td>50.09</td>\n",
       "      <td>46.61</td>\n",
       "      <td>105.99</td>\n",
       "      <td>-3.53</td>\n",
       "      <td>1</td>\n",
       "    </tr>\n",
       "    <tr>\n",
       "      <th>3</th>\n",
       "      <td>69.30</td>\n",
       "      <td>24.65</td>\n",
       "      <td>44.31</td>\n",
       "      <td>44.64</td>\n",
       "      <td>101.87</td>\n",
       "      <td>11.21</td>\n",
       "      <td>1</td>\n",
       "    </tr>\n",
       "    <tr>\n",
       "      <th>4</th>\n",
       "      <td>49.71</td>\n",
       "      <td>9.65</td>\n",
       "      <td>28.32</td>\n",
       "      <td>40.06</td>\n",
       "      <td>108.17</td>\n",
       "      <td>7.92</td>\n",
       "      <td>1</td>\n",
       "    </tr>\n",
       "  </tbody>\n",
       "</table>\n",
       "</div>"
      ],
      "text/plain": [
       "   pelvic_incidence  pelvic_tilt  lumbar_lordosis_angle  sacral_slope  \\\n",
       "0             63.03        22.55                  39.61         40.48   \n",
       "1             39.06        10.06                  25.02         29.00   \n",
       "2             68.83        22.22                  50.09         46.61   \n",
       "3             69.30        24.65                  44.31         44.64   \n",
       "4             49.71         9.65                  28.32         40.06   \n",
       "\n",
       "   pelvic_radius  degree_spondylolisthesis  class1  \n",
       "0          98.67                     -0.25       1  \n",
       "1         114.41                      4.56       1  \n",
       "2         105.99                     -3.53       1  \n",
       "3         101.87                     11.21       1  \n",
       "4         108.17                      7.92       1  "
      ]
     },
     "execution_count": 88,
     "metadata": {},
     "output_type": "execute_result"
    }
   ],
   "source": [
    "df2_1.head()"
   ]
  },
  {
   "cell_type": "code",
   "execution_count": 89,
   "metadata": {},
   "outputs": [],
   "source": [
    "df2_0_1=df2_0.iloc[:70]\n",
    "df2_1_2=df2_1.iloc[:140]"
   ]
  },
  {
   "cell_type": "code",
   "execution_count": 90,
   "metadata": {},
   "outputs": [
    {
     "data": {
      "text/html": [
       "<div>\n",
       "<style scoped>\n",
       "    .dataframe tbody tr th:only-of-type {\n",
       "        vertical-align: middle;\n",
       "    }\n",
       "\n",
       "    .dataframe tbody tr th {\n",
       "        vertical-align: top;\n",
       "    }\n",
       "\n",
       "    .dataframe thead th {\n",
       "        text-align: right;\n",
       "    }\n",
       "</style>\n",
       "<table border=\"1\" class=\"dataframe\">\n",
       "  <thead>\n",
       "    <tr style=\"text-align: right;\">\n",
       "      <th></th>\n",
       "      <th>pelvic_incidence</th>\n",
       "      <th>pelvic_tilt</th>\n",
       "      <th>lumbar_lordosis_angle</th>\n",
       "      <th>sacral_slope</th>\n",
       "      <th>pelvic_radius</th>\n",
       "      <th>degree_spondylolisthesis</th>\n",
       "      <th>class1</th>\n",
       "    </tr>\n",
       "  </thead>\n",
       "  <tbody>\n",
       "    <tr>\n",
       "      <th>210</th>\n",
       "      <td>38.51</td>\n",
       "      <td>16.96</td>\n",
       "      <td>35.11</td>\n",
       "      <td>21.54</td>\n",
       "      <td>127.63</td>\n",
       "      <td>7.99</td>\n",
       "      <td>0</td>\n",
       "    </tr>\n",
       "    <tr>\n",
       "      <th>211</th>\n",
       "      <td>54.92</td>\n",
       "      <td>18.97</td>\n",
       "      <td>51.60</td>\n",
       "      <td>35.95</td>\n",
       "      <td>125.85</td>\n",
       "      <td>2.00</td>\n",
       "      <td>0</td>\n",
       "    </tr>\n",
       "    <tr>\n",
       "      <th>212</th>\n",
       "      <td>44.36</td>\n",
       "      <td>8.95</td>\n",
       "      <td>46.90</td>\n",
       "      <td>35.42</td>\n",
       "      <td>129.22</td>\n",
       "      <td>4.99</td>\n",
       "      <td>0</td>\n",
       "    </tr>\n",
       "    <tr>\n",
       "      <th>213</th>\n",
       "      <td>48.32</td>\n",
       "      <td>17.45</td>\n",
       "      <td>48.00</td>\n",
       "      <td>30.87</td>\n",
       "      <td>128.98</td>\n",
       "      <td>-0.91</td>\n",
       "      <td>0</td>\n",
       "    </tr>\n",
       "    <tr>\n",
       "      <th>214</th>\n",
       "      <td>45.70</td>\n",
       "      <td>10.66</td>\n",
       "      <td>42.58</td>\n",
       "      <td>35.04</td>\n",
       "      <td>130.18</td>\n",
       "      <td>-3.39</td>\n",
       "      <td>0</td>\n",
       "    </tr>\n",
       "    <tr>\n",
       "      <th>...</th>\n",
       "      <td>...</td>\n",
       "      <td>...</td>\n",
       "      <td>...</td>\n",
       "      <td>...</td>\n",
       "      <td>...</td>\n",
       "      <td>...</td>\n",
       "      <td>...</td>\n",
       "    </tr>\n",
       "    <tr>\n",
       "      <th>275</th>\n",
       "      <td>67.29</td>\n",
       "      <td>16.72</td>\n",
       "      <td>51.00</td>\n",
       "      <td>50.57</td>\n",
       "      <td>137.59</td>\n",
       "      <td>4.96</td>\n",
       "      <td>0</td>\n",
       "    </tr>\n",
       "    <tr>\n",
       "      <th>276</th>\n",
       "      <td>51.33</td>\n",
       "      <td>13.63</td>\n",
       "      <td>33.26</td>\n",
       "      <td>37.69</td>\n",
       "      <td>131.31</td>\n",
       "      <td>1.79</td>\n",
       "      <td>0</td>\n",
       "    </tr>\n",
       "    <tr>\n",
       "      <th>277</th>\n",
       "      <td>65.76</td>\n",
       "      <td>13.21</td>\n",
       "      <td>44.00</td>\n",
       "      <td>52.55</td>\n",
       "      <td>129.39</td>\n",
       "      <td>-1.98</td>\n",
       "      <td>0</td>\n",
       "    </tr>\n",
       "    <tr>\n",
       "      <th>278</th>\n",
       "      <td>40.41</td>\n",
       "      <td>-1.33</td>\n",
       "      <td>30.98</td>\n",
       "      <td>41.74</td>\n",
       "      <td>119.34</td>\n",
       "      <td>-6.17</td>\n",
       "      <td>0</td>\n",
       "    </tr>\n",
       "    <tr>\n",
       "      <th>279</th>\n",
       "      <td>48.80</td>\n",
       "      <td>18.02</td>\n",
       "      <td>52.00</td>\n",
       "      <td>30.78</td>\n",
       "      <td>139.15</td>\n",
       "      <td>10.44</td>\n",
       "      <td>0</td>\n",
       "    </tr>\n",
       "  </tbody>\n",
       "</table>\n",
       "<p>70 rows × 7 columns</p>\n",
       "</div>"
      ],
      "text/plain": [
       "     pelvic_incidence  pelvic_tilt  lumbar_lordosis_angle  sacral_slope  \\\n",
       "210             38.51        16.96                  35.11         21.54   \n",
       "211             54.92        18.97                  51.60         35.95   \n",
       "212             44.36         8.95                  46.90         35.42   \n",
       "213             48.32        17.45                  48.00         30.87   \n",
       "214             45.70        10.66                  42.58         35.04   \n",
       "..                ...          ...                    ...           ...   \n",
       "275             67.29        16.72                  51.00         50.57   \n",
       "276             51.33        13.63                  33.26         37.69   \n",
       "277             65.76        13.21                  44.00         52.55   \n",
       "278             40.41        -1.33                  30.98         41.74   \n",
       "279             48.80        18.02                  52.00         30.78   \n",
       "\n",
       "     pelvic_radius  degree_spondylolisthesis  class1  \n",
       "210         127.63                      7.99       0  \n",
       "211         125.85                      2.00       0  \n",
       "212         129.22                      4.99       0  \n",
       "213         128.98                     -0.91       0  \n",
       "214         130.18                     -3.39       0  \n",
       "..             ...                       ...     ...  \n",
       "275         137.59                      4.96       0  \n",
       "276         131.31                      1.79       0  \n",
       "277         129.39                     -1.98       0  \n",
       "278         119.34                     -6.17       0  \n",
       "279         139.15                     10.44       0  \n",
       "\n",
       "[70 rows x 7 columns]"
      ]
     },
     "execution_count": 90,
     "metadata": {},
     "output_type": "execute_result"
    }
   ],
   "source": [
    "df2_0_1"
   ]
  },
  {
   "cell_type": "code",
   "execution_count": 91,
   "metadata": {},
   "outputs": [
    {
     "data": {
      "text/html": [
       "<div>\n",
       "<style scoped>\n",
       "    .dataframe tbody tr th:only-of-type {\n",
       "        vertical-align: middle;\n",
       "    }\n",
       "\n",
       "    .dataframe tbody tr th {\n",
       "        vertical-align: top;\n",
       "    }\n",
       "\n",
       "    .dataframe thead th {\n",
       "        text-align: right;\n",
       "    }\n",
       "</style>\n",
       "<table border=\"1\" class=\"dataframe\">\n",
       "  <thead>\n",
       "    <tr style=\"text-align: right;\">\n",
       "      <th></th>\n",
       "      <th>pelvic_incidence</th>\n",
       "      <th>pelvic_tilt</th>\n",
       "      <th>lumbar_lordosis_angle</th>\n",
       "      <th>sacral_slope</th>\n",
       "      <th>pelvic_radius</th>\n",
       "      <th>degree_spondylolisthesis</th>\n",
       "      <th>class1</th>\n",
       "    </tr>\n",
       "  </thead>\n",
       "  <tbody>\n",
       "    <tr>\n",
       "      <th>0</th>\n",
       "      <td>63.03</td>\n",
       "      <td>22.55</td>\n",
       "      <td>39.61</td>\n",
       "      <td>40.48</td>\n",
       "      <td>98.67</td>\n",
       "      <td>-0.25</td>\n",
       "      <td>1</td>\n",
       "    </tr>\n",
       "    <tr>\n",
       "      <th>1</th>\n",
       "      <td>39.06</td>\n",
       "      <td>10.06</td>\n",
       "      <td>25.02</td>\n",
       "      <td>29.00</td>\n",
       "      <td>114.41</td>\n",
       "      <td>4.56</td>\n",
       "      <td>1</td>\n",
       "    </tr>\n",
       "    <tr>\n",
       "      <th>2</th>\n",
       "      <td>68.83</td>\n",
       "      <td>22.22</td>\n",
       "      <td>50.09</td>\n",
       "      <td>46.61</td>\n",
       "      <td>105.99</td>\n",
       "      <td>-3.53</td>\n",
       "      <td>1</td>\n",
       "    </tr>\n",
       "    <tr>\n",
       "      <th>3</th>\n",
       "      <td>69.30</td>\n",
       "      <td>24.65</td>\n",
       "      <td>44.31</td>\n",
       "      <td>44.64</td>\n",
       "      <td>101.87</td>\n",
       "      <td>11.21</td>\n",
       "      <td>1</td>\n",
       "    </tr>\n",
       "    <tr>\n",
       "      <th>4</th>\n",
       "      <td>49.71</td>\n",
       "      <td>9.65</td>\n",
       "      <td>28.32</td>\n",
       "      <td>40.06</td>\n",
       "      <td>108.17</td>\n",
       "      <td>7.92</td>\n",
       "      <td>1</td>\n",
       "    </tr>\n",
       "    <tr>\n",
       "      <th>...</th>\n",
       "      <td>...</td>\n",
       "      <td>...</td>\n",
       "      <td>...</td>\n",
       "      <td>...</td>\n",
       "      <td>...</td>\n",
       "      <td>...</td>\n",
       "      <td>...</td>\n",
       "    </tr>\n",
       "    <tr>\n",
       "      <th>135</th>\n",
       "      <td>77.12</td>\n",
       "      <td>30.35</td>\n",
       "      <td>77.48</td>\n",
       "      <td>46.77</td>\n",
       "      <td>110.61</td>\n",
       "      <td>82.09</td>\n",
       "      <td>1</td>\n",
       "    </tr>\n",
       "    <tr>\n",
       "      <th>136</th>\n",
       "      <td>88.02</td>\n",
       "      <td>39.84</td>\n",
       "      <td>81.77</td>\n",
       "      <td>48.18</td>\n",
       "      <td>116.60</td>\n",
       "      <td>56.77</td>\n",
       "      <td>1</td>\n",
       "    </tr>\n",
       "    <tr>\n",
       "      <th>137</th>\n",
       "      <td>83.40</td>\n",
       "      <td>34.31</td>\n",
       "      <td>78.42</td>\n",
       "      <td>49.09</td>\n",
       "      <td>110.47</td>\n",
       "      <td>49.67</td>\n",
       "      <td>1</td>\n",
       "    </tr>\n",
       "    <tr>\n",
       "      <th>138</th>\n",
       "      <td>72.05</td>\n",
       "      <td>24.70</td>\n",
       "      <td>79.87</td>\n",
       "      <td>47.35</td>\n",
       "      <td>107.17</td>\n",
       "      <td>56.43</td>\n",
       "      <td>1</td>\n",
       "    </tr>\n",
       "    <tr>\n",
       "      <th>139</th>\n",
       "      <td>85.10</td>\n",
       "      <td>21.07</td>\n",
       "      <td>91.73</td>\n",
       "      <td>64.03</td>\n",
       "      <td>109.06</td>\n",
       "      <td>38.03</td>\n",
       "      <td>1</td>\n",
       "    </tr>\n",
       "  </tbody>\n",
       "</table>\n",
       "<p>140 rows × 7 columns</p>\n",
       "</div>"
      ],
      "text/plain": [
       "     pelvic_incidence  pelvic_tilt  lumbar_lordosis_angle  sacral_slope  \\\n",
       "0               63.03        22.55                  39.61         40.48   \n",
       "1               39.06        10.06                  25.02         29.00   \n",
       "2               68.83        22.22                  50.09         46.61   \n",
       "3               69.30        24.65                  44.31         44.64   \n",
       "4               49.71         9.65                  28.32         40.06   \n",
       "..                ...          ...                    ...           ...   \n",
       "135             77.12        30.35                  77.48         46.77   \n",
       "136             88.02        39.84                  81.77         48.18   \n",
       "137             83.40        34.31                  78.42         49.09   \n",
       "138             72.05        24.70                  79.87         47.35   \n",
       "139             85.10        21.07                  91.73         64.03   \n",
       "\n",
       "     pelvic_radius  degree_spondylolisthesis  class1  \n",
       "0            98.67                     -0.25       1  \n",
       "1           114.41                      4.56       1  \n",
       "2           105.99                     -3.53       1  \n",
       "3           101.87                     11.21       1  \n",
       "4           108.17                      7.92       1  \n",
       "..             ...                       ...     ...  \n",
       "135         110.61                     82.09       1  \n",
       "136         116.60                     56.77       1  \n",
       "137         110.47                     49.67       1  \n",
       "138         107.17                     56.43       1  \n",
       "139         109.06                     38.03       1  \n",
       "\n",
       "[140 rows x 7 columns]"
      ]
     },
     "execution_count": 91,
     "metadata": {},
     "output_type": "execute_result"
    }
   ],
   "source": [
    "df2_1_2"
   ]
  },
  {
   "cell_type": "code",
   "execution_count": 92,
   "metadata": {},
   "outputs": [],
   "source": [
    "train_set=pd.concat([df2_0_1,df2_1_2],axis=0,ignore_index=True)"
   ]
  },
  {
   "cell_type": "code",
   "execution_count": 93,
   "metadata": {},
   "outputs": [
    {
     "data": {
      "text/html": [
       "<div>\n",
       "<style scoped>\n",
       "    .dataframe tbody tr th:only-of-type {\n",
       "        vertical-align: middle;\n",
       "    }\n",
       "\n",
       "    .dataframe tbody tr th {\n",
       "        vertical-align: top;\n",
       "    }\n",
       "\n",
       "    .dataframe thead th {\n",
       "        text-align: right;\n",
       "    }\n",
       "</style>\n",
       "<table border=\"1\" class=\"dataframe\">\n",
       "  <thead>\n",
       "    <tr style=\"text-align: right;\">\n",
       "      <th></th>\n",
       "      <th>pelvic_incidence</th>\n",
       "      <th>pelvic_tilt</th>\n",
       "      <th>lumbar_lordosis_angle</th>\n",
       "      <th>sacral_slope</th>\n",
       "      <th>pelvic_radius</th>\n",
       "      <th>degree_spondylolisthesis</th>\n",
       "      <th>class1</th>\n",
       "    </tr>\n",
       "  </thead>\n",
       "  <tbody>\n",
       "    <tr>\n",
       "      <th>0</th>\n",
       "      <td>38.51</td>\n",
       "      <td>16.96</td>\n",
       "      <td>35.11</td>\n",
       "      <td>21.54</td>\n",
       "      <td>127.63</td>\n",
       "      <td>7.99</td>\n",
       "      <td>0</td>\n",
       "    </tr>\n",
       "    <tr>\n",
       "      <th>1</th>\n",
       "      <td>54.92</td>\n",
       "      <td>18.97</td>\n",
       "      <td>51.60</td>\n",
       "      <td>35.95</td>\n",
       "      <td>125.85</td>\n",
       "      <td>2.00</td>\n",
       "      <td>0</td>\n",
       "    </tr>\n",
       "    <tr>\n",
       "      <th>2</th>\n",
       "      <td>44.36</td>\n",
       "      <td>8.95</td>\n",
       "      <td>46.90</td>\n",
       "      <td>35.42</td>\n",
       "      <td>129.22</td>\n",
       "      <td>4.99</td>\n",
       "      <td>0</td>\n",
       "    </tr>\n",
       "    <tr>\n",
       "      <th>3</th>\n",
       "      <td>48.32</td>\n",
       "      <td>17.45</td>\n",
       "      <td>48.00</td>\n",
       "      <td>30.87</td>\n",
       "      <td>128.98</td>\n",
       "      <td>-0.91</td>\n",
       "      <td>0</td>\n",
       "    </tr>\n",
       "    <tr>\n",
       "      <th>4</th>\n",
       "      <td>45.70</td>\n",
       "      <td>10.66</td>\n",
       "      <td>42.58</td>\n",
       "      <td>35.04</td>\n",
       "      <td>130.18</td>\n",
       "      <td>-3.39</td>\n",
       "      <td>0</td>\n",
       "    </tr>\n",
       "    <tr>\n",
       "      <th>...</th>\n",
       "      <td>...</td>\n",
       "      <td>...</td>\n",
       "      <td>...</td>\n",
       "      <td>...</td>\n",
       "      <td>...</td>\n",
       "      <td>...</td>\n",
       "      <td>...</td>\n",
       "    </tr>\n",
       "    <tr>\n",
       "      <th>205</th>\n",
       "      <td>77.12</td>\n",
       "      <td>30.35</td>\n",
       "      <td>77.48</td>\n",
       "      <td>46.77</td>\n",
       "      <td>110.61</td>\n",
       "      <td>82.09</td>\n",
       "      <td>1</td>\n",
       "    </tr>\n",
       "    <tr>\n",
       "      <th>206</th>\n",
       "      <td>88.02</td>\n",
       "      <td>39.84</td>\n",
       "      <td>81.77</td>\n",
       "      <td>48.18</td>\n",
       "      <td>116.60</td>\n",
       "      <td>56.77</td>\n",
       "      <td>1</td>\n",
       "    </tr>\n",
       "    <tr>\n",
       "      <th>207</th>\n",
       "      <td>83.40</td>\n",
       "      <td>34.31</td>\n",
       "      <td>78.42</td>\n",
       "      <td>49.09</td>\n",
       "      <td>110.47</td>\n",
       "      <td>49.67</td>\n",
       "      <td>1</td>\n",
       "    </tr>\n",
       "    <tr>\n",
       "      <th>208</th>\n",
       "      <td>72.05</td>\n",
       "      <td>24.70</td>\n",
       "      <td>79.87</td>\n",
       "      <td>47.35</td>\n",
       "      <td>107.17</td>\n",
       "      <td>56.43</td>\n",
       "      <td>1</td>\n",
       "    </tr>\n",
       "    <tr>\n",
       "      <th>209</th>\n",
       "      <td>85.10</td>\n",
       "      <td>21.07</td>\n",
       "      <td>91.73</td>\n",
       "      <td>64.03</td>\n",
       "      <td>109.06</td>\n",
       "      <td>38.03</td>\n",
       "      <td>1</td>\n",
       "    </tr>\n",
       "  </tbody>\n",
       "</table>\n",
       "<p>210 rows × 7 columns</p>\n",
       "</div>"
      ],
      "text/plain": [
       "     pelvic_incidence  pelvic_tilt  lumbar_lordosis_angle  sacral_slope  \\\n",
       "0               38.51        16.96                  35.11         21.54   \n",
       "1               54.92        18.97                  51.60         35.95   \n",
       "2               44.36         8.95                  46.90         35.42   \n",
       "3               48.32        17.45                  48.00         30.87   \n",
       "4               45.70        10.66                  42.58         35.04   \n",
       "..                ...          ...                    ...           ...   \n",
       "205             77.12        30.35                  77.48         46.77   \n",
       "206             88.02        39.84                  81.77         48.18   \n",
       "207             83.40        34.31                  78.42         49.09   \n",
       "208             72.05        24.70                  79.87         47.35   \n",
       "209             85.10        21.07                  91.73         64.03   \n",
       "\n",
       "     pelvic_radius  degree_spondylolisthesis  class1  \n",
       "0           127.63                      7.99       0  \n",
       "1           125.85                      2.00       0  \n",
       "2           129.22                      4.99       0  \n",
       "3           128.98                     -0.91       0  \n",
       "4           130.18                     -3.39       0  \n",
       "..             ...                       ...     ...  \n",
       "205         110.61                     82.09       1  \n",
       "206         116.60                     56.77       1  \n",
       "207         110.47                     49.67       1  \n",
       "208         107.17                     56.43       1  \n",
       "209         109.06                     38.03       1  \n",
       "\n",
       "[210 rows x 7 columns]"
      ]
     },
     "execution_count": 93,
     "metadata": {},
     "output_type": "execute_result"
    }
   ],
   "source": [
    "train_set"
   ]
  },
  {
   "cell_type": "code",
   "execution_count": 94,
   "metadata": {},
   "outputs": [],
   "source": [
    "df2_0_2=df2_0.iloc[70:]\n",
    "df2_1_3=df2_1.iloc[140:]"
   ]
  },
  {
   "cell_type": "code",
   "execution_count": 95,
   "metadata": {},
   "outputs": [],
   "source": [
    "test_set=pd.concat([df2_0_2,df2_1_3],axis=0,ignore_index=True)"
   ]
  },
  {
   "cell_type": "code",
   "execution_count": 96,
   "metadata": {},
   "outputs": [
    {
     "data": {
      "text/html": [
       "<div>\n",
       "<style scoped>\n",
       "    .dataframe tbody tr th:only-of-type {\n",
       "        vertical-align: middle;\n",
       "    }\n",
       "\n",
       "    .dataframe tbody tr th {\n",
       "        vertical-align: top;\n",
       "    }\n",
       "\n",
       "    .dataframe thead th {\n",
       "        text-align: right;\n",
       "    }\n",
       "</style>\n",
       "<table border=\"1\" class=\"dataframe\">\n",
       "  <thead>\n",
       "    <tr style=\"text-align: right;\">\n",
       "      <th></th>\n",
       "      <th>pelvic_incidence</th>\n",
       "      <th>pelvic_tilt</th>\n",
       "      <th>lumbar_lordosis_angle</th>\n",
       "      <th>sacral_slope</th>\n",
       "      <th>pelvic_radius</th>\n",
       "      <th>degree_spondylolisthesis</th>\n",
       "      <th>class1</th>\n",
       "    </tr>\n",
       "  </thead>\n",
       "  <tbody>\n",
       "    <tr>\n",
       "      <th>0</th>\n",
       "      <td>50.09</td>\n",
       "      <td>13.43</td>\n",
       "      <td>34.46</td>\n",
       "      <td>36.66</td>\n",
       "      <td>119.13</td>\n",
       "      <td>3.09</td>\n",
       "      <td>0</td>\n",
       "    </tr>\n",
       "    <tr>\n",
       "      <th>1</th>\n",
       "      <td>64.26</td>\n",
       "      <td>14.50</td>\n",
       "      <td>43.90</td>\n",
       "      <td>49.76</td>\n",
       "      <td>115.39</td>\n",
       "      <td>5.95</td>\n",
       "      <td>0</td>\n",
       "    </tr>\n",
       "    <tr>\n",
       "      <th>2</th>\n",
       "      <td>53.68</td>\n",
       "      <td>13.45</td>\n",
       "      <td>41.58</td>\n",
       "      <td>40.24</td>\n",
       "      <td>113.91</td>\n",
       "      <td>2.74</td>\n",
       "      <td>0</td>\n",
       "    </tr>\n",
       "    <tr>\n",
       "      <th>3</th>\n",
       "      <td>49.00</td>\n",
       "      <td>13.11</td>\n",
       "      <td>51.87</td>\n",
       "      <td>35.88</td>\n",
       "      <td>126.40</td>\n",
       "      <td>0.54</td>\n",
       "      <td>0</td>\n",
       "    </tr>\n",
       "    <tr>\n",
       "      <th>4</th>\n",
       "      <td>59.17</td>\n",
       "      <td>14.56</td>\n",
       "      <td>43.20</td>\n",
       "      <td>44.60</td>\n",
       "      <td>121.04</td>\n",
       "      <td>2.83</td>\n",
       "      <td>0</td>\n",
       "    </tr>\n",
       "    <tr>\n",
       "      <th>...</th>\n",
       "      <td>...</td>\n",
       "      <td>...</td>\n",
       "      <td>...</td>\n",
       "      <td>...</td>\n",
       "      <td>...</td>\n",
       "      <td>...</td>\n",
       "      <td>...</td>\n",
       "    </tr>\n",
       "    <tr>\n",
       "      <th>95</th>\n",
       "      <td>80.11</td>\n",
       "      <td>33.94</td>\n",
       "      <td>85.10</td>\n",
       "      <td>46.17</td>\n",
       "      <td>125.59</td>\n",
       "      <td>100.29</td>\n",
       "      <td>1</td>\n",
       "    </tr>\n",
       "    <tr>\n",
       "      <th>96</th>\n",
       "      <td>95.48</td>\n",
       "      <td>46.55</td>\n",
       "      <td>59.00</td>\n",
       "      <td>48.93</td>\n",
       "      <td>96.68</td>\n",
       "      <td>77.28</td>\n",
       "      <td>1</td>\n",
       "    </tr>\n",
       "    <tr>\n",
       "      <th>97</th>\n",
       "      <td>74.09</td>\n",
       "      <td>18.82</td>\n",
       "      <td>76.03</td>\n",
       "      <td>55.27</td>\n",
       "      <td>128.41</td>\n",
       "      <td>73.39</td>\n",
       "      <td>1</td>\n",
       "    </tr>\n",
       "    <tr>\n",
       "      <th>98</th>\n",
       "      <td>87.68</td>\n",
       "      <td>20.37</td>\n",
       "      <td>93.82</td>\n",
       "      <td>67.31</td>\n",
       "      <td>120.94</td>\n",
       "      <td>76.73</td>\n",
       "      <td>1</td>\n",
       "    </tr>\n",
       "    <tr>\n",
       "      <th>99</th>\n",
       "      <td>48.26</td>\n",
       "      <td>16.42</td>\n",
       "      <td>36.33</td>\n",
       "      <td>31.84</td>\n",
       "      <td>94.88</td>\n",
       "      <td>28.34</td>\n",
       "      <td>1</td>\n",
       "    </tr>\n",
       "  </tbody>\n",
       "</table>\n",
       "<p>100 rows × 7 columns</p>\n",
       "</div>"
      ],
      "text/plain": [
       "    pelvic_incidence  pelvic_tilt  lumbar_lordosis_angle  sacral_slope  \\\n",
       "0              50.09        13.43                  34.46         36.66   \n",
       "1              64.26        14.50                  43.90         49.76   \n",
       "2              53.68        13.45                  41.58         40.24   \n",
       "3              49.00        13.11                  51.87         35.88   \n",
       "4              59.17        14.56                  43.20         44.60   \n",
       "..               ...          ...                    ...           ...   \n",
       "95             80.11        33.94                  85.10         46.17   \n",
       "96             95.48        46.55                  59.00         48.93   \n",
       "97             74.09        18.82                  76.03         55.27   \n",
       "98             87.68        20.37                  93.82         67.31   \n",
       "99             48.26        16.42                  36.33         31.84   \n",
       "\n",
       "    pelvic_radius  degree_spondylolisthesis  class1  \n",
       "0          119.13                      3.09       0  \n",
       "1          115.39                      5.95       0  \n",
       "2          113.91                      2.74       0  \n",
       "3          126.40                      0.54       0  \n",
       "4          121.04                      2.83       0  \n",
       "..            ...                       ...     ...  \n",
       "95         125.59                    100.29       1  \n",
       "96          96.68                     77.28       1  \n",
       "97         128.41                     73.39       1  \n",
       "98         120.94                     76.73       1  \n",
       "99          94.88                     28.34       1  \n",
       "\n",
       "[100 rows x 7 columns]"
      ]
     },
     "execution_count": 96,
     "metadata": {},
     "output_type": "execute_result"
    }
   ],
   "source": [
    "test_set"
   ]
  },
  {
   "cell_type": "code",
   "execution_count": 97,
   "metadata": {},
   "outputs": [],
   "source": [
    "X_train=train_set.iloc[:,0:6]\n",
    "y_train=train_set[\"class1\"]\n",
    "X_test=test_set.iloc[:,0:6]\n",
    "y_test=test_set[\"class1\"]"
   ]
  },
  {
   "cell_type": "markdown",
   "metadata": {},
   "source": [
    "# Question C"
   ]
  },
  {
   "cell_type": "code",
   "execution_count": 98,
   "metadata": {},
   "outputs": [],
   "source": [
    "test_error=[]\n",
    "train_error=[]\n",
    "n=[]\n",
    "test_error_dic={}"
   ]
  },
  {
   "cell_type": "code",
   "execution_count": 99,
   "metadata": {},
   "outputs": [
    {
     "name": "stdout",
     "output_type": "stream",
     "text": [
      "k is 1 test error is 0.13\n",
      "k is 4 test error is 0.06000000000000005\n",
      "k is 7 test error is 0.12\n",
      "k is 10 test error is 0.09999999999999998\n",
      "k is 13 test error is 0.12\n",
      "k is 16 test error is 0.08999999999999997\n",
      "k is 19 test error is 0.10999999999999999\n",
      "k is 22 test error is 0.09999999999999998\n",
      "k is 25 test error is 0.10999999999999999\n",
      "k is 28 test error is 0.09999999999999998\n",
      "k is 31 test error is 0.10999999999999999\n",
      "k is 34 test error is 0.10999999999999999\n",
      "k is 37 test error is 0.10999999999999999\n",
      "k is 40 test error is 0.09999999999999998\n",
      "k is 43 test error is 0.12\n",
      "k is 46 test error is 0.12\n",
      "k is 49 test error is 0.10999999999999999\n",
      "k is 52 test error is 0.10999999999999999\n",
      "k is 55 test error is 0.12\n",
      "k is 58 test error is 0.12\n",
      "k is 61 test error is 0.12\n",
      "k is 64 test error is 0.12\n",
      "k is 67 test error is 0.13\n",
      "k is 70 test error is 0.12\n",
      "k is 73 test error is 0.13\n",
      "k is 76 test error is 0.12\n",
      "k is 79 test error is 0.13\n",
      "k is 82 test error is 0.14\n",
      "k is 85 test error is 0.16000000000000003\n",
      "k is 88 test error is 0.17000000000000004\n",
      "k is 91 test error is 0.16000000000000003\n",
      "k is 94 test error is 0.15000000000000002\n",
      "k is 97 test error is 0.16000000000000003\n",
      "k is 100 test error is 0.14\n",
      "k is 103 test error is 0.18000000000000005\n",
      "k is 106 test error is 0.14\n",
      "k is 109 test error is 0.16000000000000003\n",
      "k is 112 test error is 0.16000000000000003\n",
      "k is 115 test error is 0.19999999999999996\n",
      "k is 118 test error is 0.15000000000000002\n",
      "k is 121 test error is 0.21999999999999997\n",
      "k is 124 test error is 0.19999999999999996\n",
      "k is 127 test error is 0.22999999999999998\n",
      "k is 130 test error is 0.24\n",
      "k is 133 test error is 0.27\n",
      "k is 136 test error is 0.28\n",
      "k is 139 test error is 0.30000000000000004\n",
      "k is 142 test error is 0.30000000000000004\n",
      "k is 145 test error is 0.30000000000000004\n",
      "k is 148 test error is 0.30000000000000004\n",
      "k is 151 test error is 0.30000000000000004\n",
      "k is 154 test error is 0.30000000000000004\n",
      "k is 157 test error is 0.30000000000000004\n",
      "k is 160 test error is 0.30000000000000004\n",
      "k is 163 test error is 0.30000000000000004\n",
      "k is 166 test error is 0.30000000000000004\n",
      "k is 169 test error is 0.30000000000000004\n",
      "k is 172 test error is 0.30000000000000004\n",
      "k is 175 test error is 0.30000000000000004\n",
      "k is 178 test error is 0.30000000000000004\n",
      "k is 181 test error is 0.30000000000000004\n",
      "k is 184 test error is 0.30000000000000004\n",
      "k is 187 test error is 0.30000000000000004\n",
      "k is 190 test error is 0.30000000000000004\n",
      "k is 193 test error is 0.30000000000000004\n",
      "k is 196 test error is 0.30000000000000004\n",
      "k is 199 test error is 0.30000000000000004\n",
      "k is 202 test error is 0.30000000000000004\n",
      "k is 205 test error is 0.30000000000000004\n",
      "k is 208 test error is 0.30000000000000004\n"
     ]
    }
   ],
   "source": [
    "for i in range(70):\n",
    "    k=1+3*i\n",
    "    model=KNeighborsClassifier(n_neighbors=k)\n",
    "    n.append(k)\n",
    "    model.fit(X_train,y_train)\n",
    "    y_pred=model.predict(X_test)\n",
    "    test_acc_score=accuracy_score(y_pred,y_test)\n",
    "    t_error=1-test_acc_score\n",
    "    test_error.append(t_error)\n",
    "    test_error_dic[k]=t_error\n",
    "    y_pred2=model.predict(X_train)\n",
    "    train_acc_score=accuracy_score(y_pred2,y_train)\n",
    "    train_er=1-train_acc_score\n",
    "    train_error.append(train_er)\n",
    "    print('k is', k, 'test error is', t_error)"
   ]
  },
  {
   "cell_type": "code",
   "execution_count": 100,
   "metadata": {},
   "outputs": [
    {
     "data": {
      "text/plain": [
       "Text(0, 0.5, 'Test Error')"
      ]
     },
     "execution_count": 100,
     "metadata": {},
     "output_type": "execute_result"
    },
    {
     "data": {
      "image/png": "[encoded data removed]",
      "text/plain": [
       "<Figure size 432x432 with 1 Axes>"
      ]
     },
     "metadata": {
      "needs_background": "light"
     },
     "output_type": "display_data"
    }
   ],
   "source": [
    "plt.figure(figsize=(6,6))\n",
    "plt.plot(n,test_error,'s-',linewidth=0.5, color = 'b')\n",
    "plt.xlabel('k value')\n",
    "plt.ylabel('Test Error')"
   ]
  },
  {
   "cell_type": "code",
   "execution_count": 101,
   "metadata": {},
   "outputs": [
    {
     "data": {
      "text/plain": [
       "Text(0, 0.5, 'Train Error')"
      ]
     },
     "execution_count": 101,
     "metadata": {},
     "output_type": "execute_result"
    },
    {
     "data": {
      "image/png": "[encoded data removed]",
      "text/plain": [
       "<Figure size 432x432 with 1 Axes>"
      ]
     },
     "metadata": {
      "needs_background": "light"
     },
     "output_type": "display_data"
    }
   ],
   "source": [
    "plt.figure(figsize=(6,6))\n",
    "plt.plot(n,train_error,'s-',linewidth=0.5, color = 'r')\n",
    "plt.xlabel('k value')\n",
    "plt.ylabel('Train Error')"
   ]
  },
  {
   "cell_type": "code",
   "execution_count": 102,
   "metadata": {},
   "outputs": [
    {
     "data": {
      "text/plain": [
       "0.06000000000000005"
      ]
     },
     "execution_count": 102,
     "metadata": {},
     "output_type": "execute_result"
    }
   ],
   "source": [
    "min_test_error=min(test_error)\n",
    "min_test_error"
   ]
  },
  {
   "cell_type": "code",
   "execution_count": 103,
   "metadata": {},
   "outputs": [],
   "source": [
    "def get_key (dict, value):\n",
    "    return [k for k, v in dict.items() if v == value]"
   ]
  },
  {
   "cell_type": "code",
   "execution_count": 104,
   "metadata": {},
   "outputs": [
    {
     "name": "stdout",
     "output_type": "stream",
     "text": [
      "the best K is [4]\n"
     ]
    }
   ],
   "source": [
    "k_best=get_key(test_error_dic,min_test_error)\n",
    "k_best\n",
    "print('the best K is', k_best)"
   ]
  },
  {
   "cell_type": "code",
   "execution_count": 105,
   "metadata": {},
   "outputs": [],
   "source": [
    "knn=KNeighborsClassifier(n_neighbors=4,metric='euclidean')"
   ]
  },
  {
   "cell_type": "code",
   "execution_count": 106,
   "metadata": {},
   "outputs": [
    {
     "data": {
      "text/plain": [
       "KNeighborsClassifier(metric='euclidean', n_neighbors=4)"
      ]
     },
     "execution_count": 106,
     "metadata": {},
     "output_type": "execute_result"
    }
   ],
   "source": [
    "knn.fit(X_train,y_train)"
   ]
  },
  {
   "cell_type": "code",
   "execution_count": 107,
   "metadata": {},
   "outputs": [],
   "source": [
    "y_predict=knn.predict(X_test)"
   ]
  },
  {
   "cell_type": "code",
   "execution_count": 108,
   "metadata": {},
   "outputs": [
    {
     "data": {
      "text/plain": [
       "array([[25,  5],\n",
       "       [ 1, 69]])"
      ]
     },
     "execution_count": 108,
     "metadata": {},
     "output_type": "execute_result"
    }
   ],
   "source": [
    "cm=confusion_matrix(y_test,y_predict)\n",
    "cm"
   ]
  },
  {
   "cell_type": "code",
   "execution_count": 109,
   "metadata": {},
   "outputs": [],
   "source": [
    "TP = cm[1][1]\n",
    "FN = cm[1][0]\n",
    "TN = cm[0][0]\n",
    "FP = cm[0][1]"
   ]
  },
  {
   "cell_type": "code",
   "execution_count": 110,
   "metadata": {},
   "outputs": [
    {
     "name": "stdout",
     "output_type": "stream",
     "text": [
      "true_positive_rate is 0.9857142857142858\n"
     ]
    }
   ],
   "source": [
    "true_positive_rate=TP/(TP+FN)\n",
    "print('true_positive_rate is',true_positive_rate)"
   ]
  },
  {
   "cell_type": "code",
   "execution_count": 111,
   "metadata": {},
   "outputs": [
    {
     "name": "stdout",
     "output_type": "stream",
     "text": [
      "true_negative_rate is 0.8333333333333334\n"
     ]
    }
   ],
   "source": [
    "true_negative_rate=TN/(TN +FP)\n",
    "print('true_negative_rate is',true_negative_rate)"
   ]
  },
  {
   "cell_type": "code",
   "execution_count": 112,
   "metadata": {},
   "outputs": [
    {
     "name": "stdout",
     "output_type": "stream",
     "text": [
      "precision is 0.9324324324324325\n"
     ]
    }
   ],
   "source": [
    "precision=(TP)/(TP+FP)\n",
    "print('precision is',precision)"
   ]
  },
  {
   "cell_type": "code",
   "execution_count": 113,
   "metadata": {},
   "outputs": [
    {
     "name": "stdout",
     "output_type": "stream",
     "text": [
      "F1-score is 0.9583333333333333\n"
     ]
    }
   ],
   "source": [
    "F1= f1_score(y_test, y_predict)\n",
    "print('F1-score is',F1)"
   ]
  },
  {
   "cell_type": "code",
   "execution_count": 114,
   "metadata": {},
   "outputs": [],
   "source": [
    "n1=[]\n",
    "test_error_rate=[]\n",
    "test_error_dic1={}\n",
    "min_ter1=[]\n",
    "k_best1=[]"
   ]
  },
  {
   "cell_type": "code",
   "execution_count": 115,
   "metadata": {},
   "outputs": [
    {
     "name": "stdout",
     "output_type": "stream",
     "text": [
      "N is 10\n",
      "k is  1 test_error is 0.25\n",
      "k is  6 test_error is 0.32999999999999996\n",
      "N is 20\n",
      "k is  1 test_error is 0.21999999999999997\n",
      "k is  6 test_error is 0.19999999999999996\n",
      "k is  11 test_error is 0.29000000000000004\n",
      "k is  16 test_error is 0.30000000000000004\n",
      "N is 30\n",
      "k is  1 test_error is 0.21999999999999997\n",
      "k is  6 test_error is 0.24\n",
      "k is  11 test_error is 0.26\n",
      "k is  16 test_error is 0.26\n",
      "k is  21 test_error is 0.30000000000000004\n",
      "k is  26 test_error is 0.30000000000000004\n",
      "N is 40\n",
      "k is  1 test_error is 0.76\n",
      "k is  6 test_error is 0.30000000000000004\n",
      "k is  11 test_error is 0.25\n",
      "k is  16 test_error is 0.26\n",
      "k is  21 test_error is 0.30000000000000004\n",
      "k is  26 test_error is 0.30000000000000004\n",
      "k is  31 test_error is 0.30000000000000004\n",
      "k is  36 test_error is 0.30000000000000004\n",
      "N is 50\n",
      "k is  1 test_error is 0.78\n",
      "k is  6 test_error is 0.6799999999999999\n",
      "k is  11 test_error is 0.38\n",
      "k is  16 test_error is 0.31000000000000005\n",
      "k is  21 test_error is 0.31000000000000005\n",
      "k is  26 test_error is 0.30000000000000004\n",
      "k is  31 test_error is 0.30000000000000004\n",
      "k is  36 test_error is 0.30000000000000004\n",
      "k is  41 test_error is 0.30000000000000004\n",
      "k is  46 test_error is 0.30000000000000004\n",
      "N is 60\n",
      "k is  1 test_error is 0.74\n",
      "k is  6 test_error is 0.73\n",
      "k is  11 test_error is 0.56\n",
      "k is  16 test_error is 0.54\n",
      "k is  21 test_error is 0.29000000000000004\n",
      "k is  26 test_error is 0.30000000000000004\n",
      "k is  31 test_error is 0.30000000000000004\n",
      "k is  36 test_error is 0.30000000000000004\n",
      "k is  41 test_error is 0.30000000000000004\n",
      "k is  46 test_error is 0.30000000000000004\n",
      "k is  51 test_error is 0.30000000000000004\n",
      "k is  56 test_error is 0.30000000000000004\n",
      "N is 70\n",
      "k is  1 test_error is 0.72\n",
      "k is  6 test_error is 0.69\n",
      "k is  11 test_error is 0.56\n",
      "k is  16 test_error is 0.5700000000000001\n",
      "k is  21 test_error is 0.4\n",
      "k is  26 test_error is 0.29000000000000004\n",
      "k is  31 test_error is 0.29000000000000004\n",
      "k is  36 test_error is 0.30000000000000004\n",
      "k is  41 test_error is 0.30000000000000004\n",
      "k is  46 test_error is 0.30000000000000004\n",
      "k is  51 test_error is 0.30000000000000004\n",
      "k is  56 test_error is 0.30000000000000004\n",
      "k is  61 test_error is 0.30000000000000004\n",
      "k is  66 test_error is 0.30000000000000004\n",
      "N is 80\n",
      "k is  1 test_error is 0.73\n",
      "k is  6 test_error is 0.69\n",
      "k is  11 test_error is 0.56\n",
      "k is  16 test_error is 0.54\n",
      "k is  21 test_error is 0.43000000000000005\n",
      "k is  26 test_error is 0.30000000000000004\n",
      "k is  31 test_error is 0.29000000000000004\n",
      "k is  36 test_error is 0.29000000000000004\n",
      "k is  41 test_error is 0.30000000000000004\n",
      "k is  46 test_error is 0.30000000000000004\n",
      "k is  51 test_error is 0.30000000000000004\n",
      "k is  56 test_error is 0.30000000000000004\n",
      "k is  61 test_error is 0.30000000000000004\n",
      "k is  66 test_error is 0.30000000000000004\n",
      "k is  71 test_error is 0.30000000000000004\n",
      "k is  76 test_error is 0.30000000000000004\n",
      "N is 90\n",
      "k is  1 test_error is 0.74\n",
      "k is  6 test_error is 0.7\n",
      "k is  11 test_error is 0.71\n",
      "k is  16 test_error is 0.65\n",
      "k is  21 test_error is 0.5800000000000001\n",
      "k is  26 test_error is 0.5700000000000001\n",
      "k is  31 test_error is 0.36\n",
      "k is  36 test_error is 0.36\n",
      "k is  41 test_error is 0.29000000000000004\n",
      "k is  46 test_error is 0.29000000000000004\n",
      "k is  51 test_error is 0.30000000000000004\n",
      "k is  56 test_error is 0.30000000000000004\n",
      "k is  61 test_error is 0.30000000000000004\n",
      "k is  66 test_error is 0.30000000000000004\n",
      "k is  71 test_error is 0.30000000000000004\n",
      "k is  76 test_error is 0.30000000000000004\n",
      "k is  81 test_error is 0.30000000000000004\n",
      "k is  86 test_error is 0.30000000000000004\n",
      "N is 100\n",
      "k is  1 test_error is 0.36\n",
      "k is  6 test_error is 0.25\n",
      "k is  11 test_error is 0.31999999999999995\n",
      "k is  16 test_error is 0.42000000000000004\n",
      "k is  21 test_error is 0.39\n",
      "k is  26 test_error is 0.35\n",
      "k is  31 test_error is 0.28\n",
      "k is  36 test_error is 0.28\n",
      "k is  41 test_error is 0.29000000000000004\n",
      "k is  46 test_error is 0.28\n",
      "k is  51 test_error is 0.30000000000000004\n",
      "k is  56 test_error is 0.30000000000000004\n",
      "k is  61 test_error is 0.30000000000000004\n",
      "k is  66 test_error is 0.30000000000000004\n",
      "k is  71 test_error is 0.30000000000000004\n",
      "k is  76 test_error is 0.30000000000000004\n",
      "k is  81 test_error is 0.30000000000000004\n",
      "k is  86 test_error is 0.30000000000000004\n",
      "k is  91 test_error is 0.30000000000000004\n",
      "k is  96 test_error is 0.30000000000000004\n",
      "N is 110\n",
      "k is  1 test_error is 0.29000000000000004\n",
      "k is  6 test_error is 0.21999999999999997\n",
      "k is  11 test_error is 0.22999999999999998\n",
      "k is  16 test_error is 0.26\n",
      "k is  21 test_error is 0.26\n",
      "k is  26 test_error is 0.27\n",
      "k is  31 test_error is 0.24\n",
      "k is  36 test_error is 0.25\n",
      "k is  41 test_error is 0.27\n",
      "k is  46 test_error is 0.28\n",
      "k is  51 test_error is 0.29000000000000004\n",
      "k is  56 test_error is 0.29000000000000004\n",
      "k is  61 test_error is 0.30000000000000004\n",
      "k is  66 test_error is 0.30000000000000004\n",
      "k is  71 test_error is 0.30000000000000004\n",
      "k is  76 test_error is 0.30000000000000004\n",
      "k is  81 test_error is 0.30000000000000004\n",
      "k is  86 test_error is 0.30000000000000004\n",
      "k is  91 test_error is 0.30000000000000004\n",
      "k is  96 test_error is 0.30000000000000004\n",
      "k is  101 test_error is 0.30000000000000004\n",
      "k is  106 test_error is 0.30000000000000004\n",
      "N is 120\n",
      "k is  1 test_error is 0.21999999999999997\n",
      "k is  6 test_error is 0.18999999999999995\n",
      "k is  11 test_error is 0.20999999999999996\n",
      "k is  16 test_error is 0.17000000000000004\n",
      "k is  21 test_error is 0.20999999999999996\n",
      "k is  26 test_error is 0.19999999999999996\n",
      "k is  31 test_error is 0.24\n",
      "k is  36 test_error is 0.21999999999999997\n",
      "k is  41 test_error is 0.21999999999999997\n",
      "k is  46 test_error is 0.22999999999999998\n",
      "k is  51 test_error is 0.26\n",
      "k is  56 test_error is 0.26\n",
      "k is  61 test_error is 0.29000000000000004\n",
      "k is  66 test_error is 0.29000000000000004\n",
      "k is  71 test_error is 0.30000000000000004\n",
      "k is  76 test_error is 0.30000000000000004\n",
      "k is  81 test_error is 0.30000000000000004\n",
      "k is  86 test_error is 0.30000000000000004\n",
      "k is  91 test_error is 0.30000000000000004\n",
      "k is  96 test_error is 0.30000000000000004\n",
      "k is  101 test_error is 0.30000000000000004\n",
      "k is  106 test_error is 0.30000000000000004\n",
      "k is  111 test_error is 0.30000000000000004\n",
      "k is  116 test_error is 0.30000000000000004\n",
      "N is 130\n",
      "k is  1 test_error is 0.20999999999999996\n",
      "k is  6 test_error is 0.17000000000000004\n",
      "k is  11 test_error is 0.19999999999999996\n",
      "k is  16 test_error is 0.16000000000000003\n",
      "k is  21 test_error is 0.21999999999999997\n",
      "k is  26 test_error is 0.18999999999999995\n",
      "k is  31 test_error is 0.25\n",
      "k is  36 test_error is 0.24\n",
      "k is  41 test_error is 0.22999999999999998\n",
      "k is  46 test_error is 0.22999999999999998\n",
      "k is  51 test_error is 0.26\n",
      "k is  56 test_error is 0.26\n",
      "k is  61 test_error is 0.27\n",
      "k is  66 test_error is 0.28\n",
      "k is  71 test_error is 0.28\n",
      "k is  76 test_error is 0.30000000000000004\n",
      "k is  81 test_error is 0.30000000000000004\n",
      "k is  86 test_error is 0.30000000000000004\n",
      "k is  91 test_error is 0.30000000000000004\n",
      "k is  96 test_error is 0.30000000000000004\n",
      "k is  101 test_error is 0.30000000000000004\n",
      "k is  106 test_error is 0.30000000000000004\n",
      "k is  111 test_error is 0.30000000000000004\n",
      "k is  116 test_error is 0.30000000000000004\n",
      "k is  121 test_error is 0.30000000000000004\n",
      "k is  126 test_error is 0.30000000000000004\n",
      "N is 140\n",
      "k is  1 test_error is 0.18000000000000005\n",
      "k is  6 test_error is 0.18000000000000005\n",
      "k is  11 test_error is 0.20999999999999996\n",
      "k is  16 test_error is 0.15000000000000002\n",
      "k is  21 test_error is 0.19999999999999996\n",
      "k is  26 test_error is 0.15000000000000002\n",
      "k is  31 test_error is 0.22999999999999998\n",
      "k is  36 test_error is 0.22999999999999998\n",
      "k is  41 test_error is 0.20999999999999996\n",
      "k is  46 test_error is 0.21999999999999997\n",
      "k is  51 test_error is 0.26\n",
      "k is  56 test_error is 0.26\n",
      "k is  61 test_error is 0.27\n",
      "k is  66 test_error is 0.28\n",
      "k is  71 test_error is 0.28\n",
      "k is  76 test_error is 0.29000000000000004\n",
      "k is  81 test_error is 0.30000000000000004\n",
      "k is  86 test_error is 0.30000000000000004\n",
      "k is  91 test_error is 0.30000000000000004\n",
      "k is  96 test_error is 0.30000000000000004\n",
      "k is  101 test_error is 0.30000000000000004\n",
      "k is  106 test_error is 0.30000000000000004\n",
      "k is  111 test_error is 0.30000000000000004\n",
      "k is  116 test_error is 0.30000000000000004\n",
      "k is  121 test_error is 0.30000000000000004\n",
      "k is  126 test_error is 0.30000000000000004\n",
      "k is  131 test_error is 0.30000000000000004\n",
      "k is  136 test_error is 0.30000000000000004\n",
      "N is 150\n",
      "k is  1 test_error is 0.16000000000000003\n",
      "k is  6 test_error is 0.16000000000000003\n",
      "k is  11 test_error is 0.16000000000000003\n",
      "k is  16 test_error is 0.13\n",
      "k is  21 test_error is 0.15000000000000002\n",
      "k is  26 test_error is 0.14\n",
      "k is  31 test_error is 0.17000000000000004\n",
      "k is  36 test_error is 0.24\n",
      "k is  41 test_error is 0.20999999999999996\n",
      "k is  46 test_error is 0.20999999999999996\n",
      "k is  51 test_error is 0.22999999999999998\n",
      "k is  56 test_error is 0.24\n",
      "k is  61 test_error is 0.25\n",
      "k is  66 test_error is 0.25\n",
      "k is  71 test_error is 0.27\n",
      "k is  76 test_error is 0.27\n"
     ]
    },
    {
     "name": "stdout",
     "output_type": "stream",
     "text": [
      "k is  81 test_error is 0.28\n",
      "k is  86 test_error is 0.28\n",
      "k is  91 test_error is 0.30000000000000004\n",
      "k is  96 test_error is 0.30000000000000004\n",
      "k is  101 test_error is 0.30000000000000004\n",
      "k is  106 test_error is 0.30000000000000004\n",
      "k is  111 test_error is 0.30000000000000004\n",
      "k is  116 test_error is 0.30000000000000004\n",
      "k is  121 test_error is 0.30000000000000004\n",
      "k is  126 test_error is 0.30000000000000004\n",
      "k is  131 test_error is 0.30000000000000004\n",
      "k is  136 test_error is 0.30000000000000004\n",
      "k is  141 test_error is 0.30000000000000004\n",
      "k is  146 test_error is 0.30000000000000004\n",
      "N is 160\n",
      "k is  1 test_error is 0.16000000000000003\n",
      "k is  6 test_error is 0.13\n",
      "k is  11 test_error is 0.14\n",
      "k is  16 test_error is 0.13\n",
      "k is  21 test_error is 0.14\n",
      "k is  26 test_error is 0.14\n",
      "k is  31 test_error is 0.17000000000000004\n",
      "k is  36 test_error is 0.17000000000000004\n",
      "k is  41 test_error is 0.18999999999999995\n",
      "k is  46 test_error is 0.18999999999999995\n",
      "k is  51 test_error is 0.18999999999999995\n",
      "k is  56 test_error is 0.18999999999999995\n",
      "k is  61 test_error is 0.24\n",
      "k is  66 test_error is 0.24\n",
      "k is  71 test_error is 0.26\n",
      "k is  76 test_error is 0.27\n",
      "k is  81 test_error is 0.28\n",
      "k is  86 test_error is 0.27\n",
      "k is  91 test_error is 0.29000000000000004\n",
      "k is  96 test_error is 0.30000000000000004\n",
      "k is  101 test_error is 0.30000000000000004\n",
      "k is  106 test_error is 0.30000000000000004\n",
      "k is  111 test_error is 0.30000000000000004\n",
      "k is  116 test_error is 0.30000000000000004\n",
      "k is  121 test_error is 0.30000000000000004\n",
      "k is  126 test_error is 0.30000000000000004\n",
      "k is  131 test_error is 0.30000000000000004\n",
      "k is  136 test_error is 0.30000000000000004\n",
      "k is  141 test_error is 0.30000000000000004\n",
      "k is  146 test_error is 0.30000000000000004\n",
      "k is  151 test_error is 0.30000000000000004\n",
      "k is  156 test_error is 0.30000000000000004\n",
      "N is 170\n",
      "k is  1 test_error is 0.14\n",
      "k is  6 test_error is 0.13\n",
      "k is  11 test_error is 0.13\n",
      "k is  16 test_error is 0.13\n",
      "k is  21 test_error is 0.13\n",
      "k is  26 test_error is 0.14\n",
      "k is  31 test_error is 0.14\n",
      "k is  36 test_error is 0.14\n",
      "k is  41 test_error is 0.18000000000000005\n",
      "k is  46 test_error is 0.15000000000000002\n",
      "k is  51 test_error is 0.18000000000000005\n",
      "k is  56 test_error is 0.17000000000000004\n",
      "k is  61 test_error is 0.19999999999999996\n",
      "k is  66 test_error is 0.20999999999999996\n",
      "k is  71 test_error is 0.24\n",
      "k is  76 test_error is 0.25\n",
      "k is  81 test_error is 0.26\n",
      "k is  86 test_error is 0.26\n",
      "k is  91 test_error is 0.27\n",
      "k is  96 test_error is 0.28\n",
      "k is  101 test_error is 0.30000000000000004\n",
      "k is  106 test_error is 0.30000000000000004\n",
      "k is  111 test_error is 0.30000000000000004\n",
      "k is  116 test_error is 0.30000000000000004\n",
      "k is  121 test_error is 0.30000000000000004\n",
      "k is  126 test_error is 0.30000000000000004\n",
      "k is  131 test_error is 0.30000000000000004\n",
      "k is  136 test_error is 0.30000000000000004\n",
      "k is  141 test_error is 0.30000000000000004\n",
      "k is  146 test_error is 0.30000000000000004\n",
      "k is  151 test_error is 0.30000000000000004\n",
      "k is  156 test_error is 0.30000000000000004\n",
      "k is  161 test_error is 0.30000000000000004\n",
      "k is  166 test_error is 0.30000000000000004\n",
      "N is 180\n",
      "k is  1 test_error is 0.14\n",
      "k is  6 test_error is 0.09999999999999998\n",
      "k is  11 test_error is 0.12\n",
      "k is  16 test_error is 0.09999999999999998\n",
      "k is  21 test_error is 0.10999999999999999\n",
      "k is  26 test_error is 0.12\n",
      "k is  31 test_error is 0.12\n",
      "k is  36 test_error is 0.12\n",
      "k is  41 test_error is 0.14\n",
      "k is  46 test_error is 0.10999999999999999\n",
      "k is  51 test_error is 0.15000000000000002\n",
      "k is  56 test_error is 0.15000000000000002\n",
      "k is  61 test_error is 0.17000000000000004\n",
      "k is  66 test_error is 0.16000000000000003\n",
      "k is  71 test_error is 0.19999999999999996\n",
      "k is  76 test_error is 0.21999999999999997\n",
      "k is  81 test_error is 0.24\n",
      "k is  86 test_error is 0.24\n",
      "k is  91 test_error is 0.25\n",
      "k is  96 test_error is 0.26\n",
      "k is  101 test_error is 0.28\n",
      "k is  106 test_error is 0.29000000000000004\n",
      "k is  111 test_error is 0.30000000000000004\n",
      "k is  116 test_error is 0.30000000000000004\n",
      "k is  121 test_error is 0.30000000000000004\n",
      "k is  126 test_error is 0.30000000000000004\n",
      "k is  131 test_error is 0.30000000000000004\n",
      "k is  136 test_error is 0.30000000000000004\n",
      "k is  141 test_error is 0.30000000000000004\n",
      "k is  146 test_error is 0.30000000000000004\n",
      "k is  151 test_error is 0.30000000000000004\n",
      "k is  156 test_error is 0.30000000000000004\n",
      "k is  161 test_error is 0.30000000000000004\n",
      "k is  166 test_error is 0.30000000000000004\n",
      "k is  171 test_error is 0.30000000000000004\n",
      "k is  176 test_error is 0.30000000000000004\n",
      "N is 190\n",
      "k is  1 test_error is 0.14\n",
      "k is  6 test_error is 0.08999999999999997\n",
      "k is  11 test_error is 0.12\n",
      "k is  16 test_error is 0.09999999999999998\n",
      "k is  21 test_error is 0.10999999999999999\n",
      "k is  26 test_error is 0.10999999999999999\n",
      "k is  31 test_error is 0.10999999999999999\n",
      "k is  36 test_error is 0.10999999999999999\n",
      "k is  41 test_error is 0.10999999999999999\n",
      "k is  46 test_error is 0.10999999999999999\n",
      "k is  51 test_error is 0.13\n",
      "k is  56 test_error is 0.13\n",
      "k is  61 test_error is 0.15000000000000002\n",
      "k is  66 test_error is 0.14\n",
      "k is  71 test_error is 0.17000000000000004\n",
      "k is  76 test_error is 0.18000000000000005\n",
      "k is  81 test_error is 0.19999999999999996\n",
      "k is  86 test_error is 0.20999999999999996\n",
      "k is  91 test_error is 0.22999999999999998\n",
      "k is  96 test_error is 0.22999999999999998\n",
      "k is  101 test_error is 0.26\n",
      "k is  106 test_error is 0.25\n",
      "k is  111 test_error is 0.28\n",
      "k is  116 test_error is 0.29000000000000004\n",
      "k is  121 test_error is 0.30000000000000004\n",
      "k is  126 test_error is 0.30000000000000004\n",
      "k is  131 test_error is 0.30000000000000004\n",
      "k is  136 test_error is 0.30000000000000004\n",
      "k is  141 test_error is 0.30000000000000004\n",
      "k is  146 test_error is 0.30000000000000004\n",
      "k is  151 test_error is 0.30000000000000004\n",
      "k is  156 test_error is 0.30000000000000004\n",
      "k is  161 test_error is 0.30000000000000004\n",
      "k is  166 test_error is 0.30000000000000004\n",
      "k is  171 test_error is 0.30000000000000004\n",
      "k is  176 test_error is 0.30000000000000004\n",
      "k is  181 test_error is 0.30000000000000004\n",
      "k is  186 test_error is 0.30000000000000004\n",
      "N is 200\n",
      "k is  1 test_error is 0.14\n",
      "k is  6 test_error is 0.08999999999999997\n",
      "k is  11 test_error is 0.12\n",
      "k is  16 test_error is 0.09999999999999998\n",
      "k is  21 test_error is 0.10999999999999999\n",
      "k is  26 test_error is 0.10999999999999999\n",
      "k is  31 test_error is 0.12\n",
      "k is  36 test_error is 0.10999999999999999\n",
      "k is  41 test_error is 0.10999999999999999\n",
      "k is  46 test_error is 0.10999999999999999\n",
      "k is  51 test_error is 0.12\n",
      "k is  56 test_error is 0.12\n",
      "k is  61 test_error is 0.13\n",
      "k is  66 test_error is 0.13\n",
      "k is  71 test_error is 0.16000000000000003\n",
      "k is  76 test_error is 0.15000000000000002\n",
      "k is  81 test_error is 0.17000000000000004\n",
      "k is  86 test_error is 0.18000000000000005\n",
      "k is  91 test_error is 0.18999999999999995\n",
      "k is  96 test_error is 0.22999999999999998\n",
      "k is  101 test_error is 0.22999999999999998\n",
      "k is  106 test_error is 0.21999999999999997\n",
      "k is  111 test_error is 0.24\n",
      "k is  116 test_error is 0.25\n",
      "k is  121 test_error is 0.27\n",
      "k is  126 test_error is 0.29000000000000004\n",
      "k is  131 test_error is 0.30000000000000004\n",
      "k is  136 test_error is 0.30000000000000004\n",
      "k is  141 test_error is 0.30000000000000004\n",
      "k is  146 test_error is 0.30000000000000004\n",
      "k is  151 test_error is 0.30000000000000004\n",
      "k is  156 test_error is 0.30000000000000004\n",
      "k is  161 test_error is 0.30000000000000004\n",
      "k is  166 test_error is 0.30000000000000004\n",
      "k is  171 test_error is 0.30000000000000004\n",
      "k is  176 test_error is 0.30000000000000004\n",
      "k is  181 test_error is 0.30000000000000004\n",
      "k is  186 test_error is 0.30000000000000004\n",
      "k is  191 test_error is 0.30000000000000004\n",
      "k is  196 test_error is 0.30000000000000004\n",
      "N is 210\n",
      "k is  1 test_error is 0.13\n",
      "k is  6 test_error is 0.07999999999999996\n",
      "k is  11 test_error is 0.12\n",
      "k is  16 test_error is 0.08999999999999997\n",
      "k is  21 test_error is 0.09999999999999998\n",
      "k is  26 test_error is 0.10999999999999999\n",
      "k is  31 test_error is 0.10999999999999999\n",
      "k is  36 test_error is 0.10999999999999999\n",
      "k is  41 test_error is 0.10999999999999999\n",
      "k is  46 test_error is 0.12\n",
      "k is  51 test_error is 0.10999999999999999\n",
      "k is  56 test_error is 0.12\n",
      "k is  61 test_error is 0.12\n",
      "k is  66 test_error is 0.13\n",
      "k is  71 test_error is 0.13\n",
      "k is  76 test_error is 0.12\n",
      "k is  81 test_error is 0.13\n",
      "k is  86 test_error is 0.16000000000000003\n",
      "k is  91 test_error is 0.16000000000000003\n",
      "k is  96 test_error is 0.15000000000000002\n",
      "k is  101 test_error is 0.17000000000000004\n",
      "k is  106 test_error is 0.14\n",
      "k is  111 test_error is 0.17000000000000004\n"
     ]
    },
    {
     "name": "stdout",
     "output_type": "stream",
     "text": [
      "k is  116 test_error is 0.18000000000000005\n",
      "k is  121 test_error is 0.21999999999999997\n",
      "k is  126 test_error is 0.20999999999999996\n",
      "k is  131 test_error is 0.26\n",
      "k is  136 test_error is 0.28\n",
      "k is  141 test_error is 0.30000000000000004\n",
      "k is  146 test_error is 0.30000000000000004\n",
      "k is  151 test_error is 0.30000000000000004\n",
      "k is  156 test_error is 0.30000000000000004\n",
      "k is  161 test_error is 0.30000000000000004\n",
      "k is  166 test_error is 0.30000000000000004\n",
      "k is  171 test_error is 0.30000000000000004\n",
      "k is  176 test_error is 0.30000000000000004\n",
      "k is  181 test_error is 0.30000000000000004\n",
      "k is  186 test_error is 0.30000000000000004\n",
      "k is  191 test_error is 0.30000000000000004\n",
      "k is  196 test_error is 0.30000000000000004\n"
     ]
    }
   ],
   "source": [
    "for N in range(10,211,10):\n",
    "    print('N is', N)\n",
    "    df2_0_3=df2_0_1.iloc[:N//3]\n",
    "    df2_1_4=df2_1_2.iloc[:N-(N//3)]\n",
    "    training_set=pd.concat([df2_0_3,df2_1_4],axis=0,ignore_index=True)\n",
    "    X_train1=training_set.iloc[:,0:6]\n",
    "    y_train1=training_set[\"class1\"]\n",
    "    for i in range(40):\n",
    "        k=1+5*i\n",
    "        if k<=N:\n",
    "            model1=KNeighborsClassifier(n_neighbors=k)\n",
    "            n1.append(k)\n",
    "            model1.fit(X_train1,y_train1)\n",
    "            y_pred1=model1.predict(X_test)\n",
    "            test_acc_score1=accuracy_score(y_pred1,y_test)\n",
    "            t_error1=1-test_acc_score1\n",
    "            test_error_rate.append(t_error1)\n",
    "            test_error_dic1[k]=t_error1\n",
    "            print('k is ',k,'test_error is',t_error1)\n",
    "    min_ter=min(test_error_rate)\n",
    "    min_ter1.append(min_ter)"
   ]
  },
  {
   "cell_type": "code",
   "execution_count": 116,
   "metadata": {},
   "outputs": [
    {
     "data": {
      "text/plain": [
       "Text(0.5, 1.0, 'Learning Curve')"
      ]
     },
     "execution_count": 116,
     "metadata": {},
     "output_type": "execute_result"
    },
    {
     "data": {
      "image/png": "[encoded data removed]",
      "text/plain": [
       "<Figure size 432x432 with 1 Axes>"
      ]
     },
     "metadata": {
      "needs_background": "light"
     },
     "output_type": "display_data"
    }
   ],
   "source": [
    "plt.figure(figsize=(6,6))\n",
    "plt.plot(range(10,211,10),min_ter1,'s-',linewidth=0.5, color = 'b')\n",
    "plt.xlabel('N')\n",
    "plt.ylabel('Test Error')\n",
    "plt.title('Learning Curve')"
   ]
  },
  {
   "cell_type": "markdown",
   "metadata": {},
   "source": [
    "# Question D"
   ]
  },
  {
   "cell_type": "code",
   "execution_count": 117,
   "metadata": {},
   "outputs": [],
   "source": [
    "test_error_d=[]\n",
    "n_d=[]\n",
    "test_error_dic_d={}"
   ]
  },
  {
   "cell_type": "code",
   "execution_count": 118,
   "metadata": {},
   "outputs": [
    {
     "name": "stdout",
     "output_type": "stream",
     "text": [
      "k is 1 test error is 0.12\n",
      "k is 6 test error is 0.10999999999999999\n",
      "k is 11 test error is 0.10999999999999999\n",
      "k is 16 test error is 0.12\n",
      "k is 21 test error is 0.12\n",
      "k is 26 test error is 0.10999999999999999\n",
      "k is 31 test error is 0.12\n",
      "k is 36 test error is 0.13\n",
      "k is 41 test error is 0.13\n",
      "k is 46 test error is 0.13\n",
      "k is 51 test error is 0.14\n",
      "k is 56 test error is 0.13\n",
      "k is 61 test error is 0.15000000000000002\n",
      "k is 66 test error is 0.15000000000000002\n",
      "k is 71 test error is 0.14\n",
      "k is 76 test error is 0.14\n",
      "k is 81 test error is 0.16000000000000003\n",
      "k is 86 test error is 0.15000000000000002\n",
      "k is 91 test error is 0.19999999999999996\n",
      "k is 96 test error is 0.19999999999999996\n",
      "k is 101 test error is 0.21999999999999997\n",
      "k is 106 test error is 0.20999999999999996\n",
      "k is 111 test error is 0.22999999999999998\n",
      "k is 116 test error is 0.20999999999999996\n",
      "k is 121 test error is 0.21999999999999997\n",
      "k is 126 test error is 0.24\n",
      "k is 131 test error is 0.28\n",
      "k is 136 test error is 0.28\n",
      "k is 141 test error is 0.30000000000000004\n",
      "k is 146 test error is 0.30000000000000004\n",
      "k is 151 test error is 0.30000000000000004\n",
      "k is 156 test error is 0.30000000000000004\n",
      "k is 161 test error is 0.30000000000000004\n",
      "k is 166 test error is 0.30000000000000004\n",
      "k is 171 test error is 0.30000000000000004\n",
      "k is 176 test error is 0.30000000000000004\n",
      "k is 181 test error is 0.30000000000000004\n",
      "k is 186 test error is 0.30000000000000004\n",
      "k is 191 test error is 0.30000000000000004\n",
      "k is 196 test error is 0.30000000000000004\n"
     ]
    }
   ],
   "source": [
    "for i in range(40):\n",
    "    k=1+5*i\n",
    "    model_d=KNeighborsClassifier(n_neighbors=k,metric='manhattan',p=1)\n",
    "    n_d.append(k)\n",
    "    model_d.fit(X_train,y_train)\n",
    "    y_pred_d=model_d.predict(X_test)\n",
    "    test_acc_score_d=accuracy_score(y_pred_d,y_test)\n",
    "    t_error=1-test_acc_score_d\n",
    "    test_error_d.append(t_error)\n",
    "    test_error_dic_d[k]=t_error\n",
    "    y_pred_d2=model_d.predict(X_train)\n",
    "    train_acc_score_d=accuracy_score(y_pred_d2,y_train)\n",
    "    train_er_d=1-train_acc_score_d\n",
    "    train_error.append(train_er_d)\n",
    "    print('k is', k, 'test error is', t_error)"
   ]
  },
  {
   "cell_type": "code",
   "execution_count": 119,
   "metadata": {},
   "outputs": [
    {
     "data": {
      "text/plain": [
       "0.10999999999999999"
      ]
     },
     "execution_count": 119,
     "metadata": {},
     "output_type": "execute_result"
    }
   ],
   "source": [
    "min_test_error_d=min(test_error_d)\n",
    "min_test_error_d"
   ]
  },
  {
   "cell_type": "code",
   "execution_count": 120,
   "metadata": {},
   "outputs": [
    {
     "name": "stdout",
     "output_type": "stream",
     "text": [
      "the min_test_error is 0.10999999999999999 and the best k are [6, 11, 26]\n"
     ]
    }
   ],
   "source": [
    "best_k=get_key(test_error_dic_d,min_test_error_d)\n",
    "best_k\n",
    "print('the min_test_error is',min_test_error_d,'and the best k are', best_k)"
   ]
  },
  {
   "cell_type": "markdown",
   "metadata": {},
   "source": [
    "# Question D (i)(B)"
   ]
  },
  {
   "cell_type": "code",
   "execution_count": 121,
   "metadata": {},
   "outputs": [],
   "source": [
    "test_error_d1=[]\n",
    "p_d1=[]\n",
    "test_error_dic_d1={}"
   ]
  },
  {
   "cell_type": "code",
   "execution_count": 122,
   "metadata": {},
   "outputs": [
    {
     "name": "stdout",
     "output_type": "stream",
     "text": [
      "k : 6\n",
      "log(p) is 0.1 test error is 0.08999999999999997\n",
      "log(p) is 0.2 test error is 0.08999999999999997\n",
      "log(p) is 0.30000000000000004 test error is 0.07999999999999996\n",
      "log(p) is 0.4 test error is 0.07999999999999996\n",
      "log(p) is 0.5 test error is 0.07999999999999996\n",
      "log(p) is 0.6 test error is 0.06000000000000005\n",
      "log(p) is 0.7000000000000001 test error is 0.06999999999999995\n",
      "log(p) is 0.8 test error is 0.07999999999999996\n",
      "log(p) is 0.9 test error is 0.08999999999999997\n",
      "log(p) is 1.0 test error is 0.08999999999999997\n",
      "k : 11\n",
      "log(p) is 0.1 test error is 0.10999999999999999\n",
      "log(p) is 0.2 test error is 0.10999999999999999\n",
      "log(p) is 0.30000000000000004 test error is 0.12\n",
      "log(p) is 0.4 test error is 0.12\n",
      "log(p) is 0.5 test error is 0.12\n",
      "log(p) is 0.6 test error is 0.12\n",
      "log(p) is 0.7000000000000001 test error is 0.12\n",
      "log(p) is 0.8 test error is 0.10999999999999999\n",
      "log(p) is 0.9 test error is 0.10999999999999999\n",
      "log(p) is 1.0 test error is 0.10999999999999999\n",
      "k : 26\n",
      "log(p) is 0.1 test error is 0.09999999999999998\n",
      "log(p) is 0.2 test error is 0.09999999999999998\n",
      "log(p) is 0.30000000000000004 test error is 0.10999999999999999\n",
      "log(p) is 0.4 test error is 0.09999999999999998\n",
      "log(p) is 0.5 test error is 0.10999999999999999\n",
      "log(p) is 0.6 test error is 0.09999999999999998\n",
      "log(p) is 0.7000000000000001 test error is 0.10999999999999999\n",
      "log(p) is 0.8 test error is 0.10999999999999999\n",
      "log(p) is 0.9 test error is 0.10999999999999999\n",
      "log(p) is 1.0 test error is 0.10999999999999999\n"
     ]
    }
   ],
   "source": [
    "for k in best_k:\n",
    "    print('k :', k)\n",
    "    for j in range(0,10,1):\n",
    "        a=0.1+0.1*j\n",
    "        P=10**a\n",
    "        model_d1=KNeighborsClassifier(n_neighbors=k,metric='minkowski',p=P)\n",
    "        p_d1.append(P)\n",
    "        model_d1.fit(X_train,y_train)\n",
    "        y_pred_d1=model_d1.predict(X_test)\n",
    "        test_acc_score_d1=accuracy_score(y_pred_d1,y_test)\n",
    "        t_error=1-test_acc_score_d1\n",
    "        test_error_d1.append(t_error)\n",
    "        y_pred_d3=model_d1.predict(X_train)\n",
    "        train_acc_score_d3=accuracy_score(y_pred_d3,y_train)\n",
    "        train_er_d3=1-train_acc_score_d3\n",
    "        train_error.append(train_er_d3)\n",
    "        print('log(p) is', a , 'test error is', t_error)"
   ]
  },
  {
   "cell_type": "code",
   "execution_count": 123,
   "metadata": {},
   "outputs": [
    {
     "name": "stdout",
     "output_type": "stream",
     "text": [
      "the minimam test error is 0.06000000000000005 , when k is 6 and the log(p) is 0.6,so the best log(p) is 0.6\n"
     ]
    }
   ],
   "source": [
    "print('the minimam test error is', min(test_error_d1), ', when k is 6 and the log(p) is 0.6,so the best log(p) is 0.6')"
   ]
  },
  {
   "cell_type": "markdown",
   "metadata": {},
   "source": [
    "# Question D (i)(C)"
   ]
  },
  {
   "cell_type": "code",
   "execution_count": 124,
   "metadata": {},
   "outputs": [],
   "source": [
    "test_error_d2=[]\n",
    "n_d2=[]\n",
    "test_error_dic_d2={}"
   ]
  },
  {
   "cell_type": "code",
   "execution_count": 125,
   "metadata": {},
   "outputs": [
    {
     "name": "stdout",
     "output_type": "stream",
     "text": [
      "k is 1 test error is 0.13\n",
      "k is 6 test error is 0.09999999999999998\n",
      "k is 11 test error is 0.12\n",
      "k is 16 test error is 0.07999999999999996\n",
      "k is 21 test error is 0.10999999999999999\n",
      "k is 26 test error is 0.12\n",
      "k is 31 test error is 0.12\n",
      "k is 36 test error is 0.09999999999999998\n",
      "k is 41 test error is 0.13\n",
      "k is 46 test error is 0.12\n",
      "k is 51 test error is 0.12\n",
      "k is 56 test error is 0.12\n",
      "k is 61 test error is 0.14\n",
      "k is 66 test error is 0.13\n",
      "k is 71 test error is 0.14\n",
      "k is 76 test error is 0.10999999999999999\n",
      "k is 81 test error is 0.14\n",
      "k is 86 test error is 0.12\n",
      "k is 91 test error is 0.15000000000000002\n",
      "k is 96 test error is 0.14\n",
      "k is 101 test error is 0.18999999999999995\n",
      "k is 106 test error is 0.18000000000000005\n",
      "k is 111 test error is 0.18000000000000005\n",
      "k is 116 test error is 0.18000000000000005\n",
      "k is 121 test error is 0.20999999999999996\n",
      "k is 126 test error is 0.20999999999999996\n",
      "k is 131 test error is 0.25\n",
      "k is 136 test error is 0.28\n",
      "k is 141 test error is 0.30000000000000004\n",
      "k is 146 test error is 0.30000000000000004\n",
      "k is 151 test error is 0.30000000000000004\n",
      "k is 156 test error is 0.30000000000000004\n",
      "k is 161 test error is 0.30000000000000004\n",
      "k is 166 test error is 0.30000000000000004\n",
      "k is 171 test error is 0.30000000000000004\n",
      "k is 176 test error is 0.30000000000000004\n",
      "k is 181 test error is 0.30000000000000004\n",
      "k is 186 test error is 0.30000000000000004\n",
      "k is 191 test error is 0.30000000000000004\n",
      "k is 196 test error is 0.30000000000000004\n"
     ]
    }
   ],
   "source": [
    "for i in range(40):\n",
    "    k=1+5*i\n",
    "    model_d2=KNeighborsClassifier(n_neighbors=k,metric='chebyshev',p=math.inf)\n",
    "    n_d2.append(k)\n",
    "    model_d2.fit(X_train,y_train)\n",
    "    y_pred_d2=model_d2.predict(X_test)\n",
    "    test_acc_score_d2=accuracy_score(y_pred_d2,y_test)\n",
    "    t_error=1-test_acc_score_d2\n",
    "    test_error_d2.append(t_error)\n",
    "    test_error_dic_d2[k]=t_error\n",
    "    y_pred_d4=model_d2.predict(X_train)\n",
    "    train_acc_score_d4=accuracy_score(y_pred_d4,y_train)\n",
    "    train_er_d4=1-train_acc_score_d4\n",
    "    train_error.append(train_er_d4)\n",
    "    print('k is', k, 'test error is', t_error)"
   ]
  },
  {
   "cell_type": "code",
   "execution_count": 126,
   "metadata": {},
   "outputs": [
    {
     "data": {
      "text/plain": [
       "0.07999999999999996"
      ]
     },
     "execution_count": 126,
     "metadata": {},
     "output_type": "execute_result"
    }
   ],
   "source": [
    "min_ter_d2=min(test_error_d2)\n",
    "min_ter_d2"
   ]
  },
  {
   "cell_type": "code",
   "execution_count": 127,
   "metadata": {},
   "outputs": [
    {
     "name": "stdout",
     "output_type": "stream",
     "text": [
      "the min_test_error is 0.07999999999999996 the best k is [16]\n"
     ]
    }
   ],
   "source": [
    "k_best=get_key(test_error_dic_d2,min_ter_d2)\n",
    "print('the min_test_error is',min_ter_d2,'the best k is',k_best)"
   ]
  },
  {
   "cell_type": "markdown",
   "metadata": {},
   "source": [
    "# Question D (ii)"
   ]
  },
  {
   "cell_type": "code",
   "execution_count": 128,
   "metadata": {},
   "outputs": [],
   "source": [
    "test_error_d3=[]\n",
    "n_d3=[]\n",
    "test_error_dic_d3={}"
   ]
  },
  {
   "cell_type": "code",
   "execution_count": 129,
   "metadata": {},
   "outputs": [
    {
     "name": "stdout",
     "output_type": "stream",
     "text": [
      "k is 1 test error is 0.17000000000000004\n",
      "k is 6 test error is 0.17000000000000004\n",
      "k is 11 test error is 0.19999999999999996\n",
      "k is 16 test error is 0.19999999999999996\n",
      "k is 21 test error is 0.20999999999999996\n",
      "k is 26 test error is 0.19999999999999996\n",
      "k is 31 test error is 0.22999999999999998\n",
      "k is 36 test error is 0.20999999999999996\n",
      "k is 41 test error is 0.24\n",
      "k is 46 test error is 0.24\n",
      "k is 51 test error is 0.24\n",
      "k is 56 test error is 0.26\n",
      "k is 61 test error is 0.25\n",
      "k is 66 test error is 0.27\n",
      "k is 71 test error is 0.26\n",
      "k is 76 test error is 0.25\n",
      "k is 81 test error is 0.24\n",
      "k is 86 test error is 0.26\n",
      "k is 91 test error is 0.26\n",
      "k is 96 test error is 0.26\n",
      "k is 101 test error is 0.28\n",
      "k is 106 test error is 0.29000000000000004\n",
      "k is 111 test error is 0.29000000000000004\n",
      "k is 116 test error is 0.29000000000000004\n",
      "k is 121 test error is 0.30000000000000004\n",
      "k is 126 test error is 0.30000000000000004\n",
      "k is 131 test error is 0.30000000000000004\n",
      "k is 136 test error is 0.30000000000000004\n",
      "k is 141 test error is 0.30000000000000004\n",
      "k is 146 test error is 0.30000000000000004\n",
      "k is 151 test error is 0.30000000000000004\n"
     ]
    },
    {
     "name": "stderr",
     "output_type": "stream",
     "text": [
      "/opt/anaconda3/lib/python3.8/site-packages/sklearn/metrics/pairwise.py:1460: FutureWarning: from version 0.25, pairwise_distances for metric='mahalanobis' will require VI to be specified if Y is passed.\n",
      "  warnings.warn(\"from version 0.25, pairwise_distances for \"\n",
      "/opt/anaconda3/lib/python3.8/site-packages/sklearn/metrics/pairwise.py:1460: FutureWarning: from version 0.25, pairwise_distances for metric='mahalanobis' will require VI to be specified if Y is passed.\n",
      "  warnings.warn(\"from version 0.25, pairwise_distances for \"\n",
      "/opt/anaconda3/lib/python3.8/site-packages/sklearn/metrics/pairwise.py:1460: FutureWarning: from version 0.25, pairwise_distances for metric='mahalanobis' will require VI to be specified if Y is passed.\n",
      "  warnings.warn(\"from version 0.25, pairwise_distances for \"\n",
      "/opt/anaconda3/lib/python3.8/site-packages/sklearn/metrics/pairwise.py:1460: FutureWarning: from version 0.25, pairwise_distances for metric='mahalanobis' will require VI to be specified if Y is passed.\n",
      "  warnings.warn(\"from version 0.25, pairwise_distances for \"\n",
      "/opt/anaconda3/lib/python3.8/site-packages/sklearn/metrics/pairwise.py:1460: FutureWarning: from version 0.25, pairwise_distances for metric='mahalanobis' will require VI to be specified if Y is passed.\n",
      "  warnings.warn(\"from version 0.25, pairwise_distances for \"\n",
      "/opt/anaconda3/lib/python3.8/site-packages/sklearn/metrics/pairwise.py:1460: FutureWarning: from version 0.25, pairwise_distances for metric='mahalanobis' will require VI to be specified if Y is passed.\n",
      "  warnings.warn(\"from version 0.25, pairwise_distances for \"\n",
      "/opt/anaconda3/lib/python3.8/site-packages/sklearn/metrics/pairwise.py:1460: FutureWarning: from version 0.25, pairwise_distances for metric='mahalanobis' will require VI to be specified if Y is passed.\n",
      "  warnings.warn(\"from version 0.25, pairwise_distances for \"\n",
      "/opt/anaconda3/lib/python3.8/site-packages/sklearn/metrics/pairwise.py:1460: FutureWarning: from version 0.25, pairwise_distances for metric='mahalanobis' will require VI to be specified if Y is passed.\n",
      "  warnings.warn(\"from version 0.25, pairwise_distances for \"\n",
      "/opt/anaconda3/lib/python3.8/site-packages/sklearn/metrics/pairwise.py:1460: FutureWarning: from version 0.25, pairwise_distances for metric='mahalanobis' will require VI to be specified if Y is passed.\n",
      "  warnings.warn(\"from version 0.25, pairwise_distances for \"\n",
      "/opt/anaconda3/lib/python3.8/site-packages/sklearn/metrics/pairwise.py:1460: FutureWarning: from version 0.25, pairwise_distances for metric='mahalanobis' will require VI to be specified if Y is passed.\n",
      "  warnings.warn(\"from version 0.25, pairwise_distances for \"\n",
      "/opt/anaconda3/lib/python3.8/site-packages/sklearn/metrics/pairwise.py:1460: FutureWarning: from version 0.25, pairwise_distances for metric='mahalanobis' will require VI to be specified if Y is passed.\n",
      "  warnings.warn(\"from version 0.25, pairwise_distances for \"\n",
      "/opt/anaconda3/lib/python3.8/site-packages/sklearn/metrics/pairwise.py:1460: FutureWarning: from version 0.25, pairwise_distances for metric='mahalanobis' will require VI to be specified if Y is passed.\n",
      "  warnings.warn(\"from version 0.25, pairwise_distances for \"\n",
      "/opt/anaconda3/lib/python3.8/site-packages/sklearn/metrics/pairwise.py:1460: FutureWarning: from version 0.25, pairwise_distances for metric='mahalanobis' will require VI to be specified if Y is passed.\n",
      "  warnings.warn(\"from version 0.25, pairwise_distances for \"\n",
      "/opt/anaconda3/lib/python3.8/site-packages/sklearn/metrics/pairwise.py:1460: FutureWarning: from version 0.25, pairwise_distances for metric='mahalanobis' will require VI to be specified if Y is passed.\n",
      "  warnings.warn(\"from version 0.25, pairwise_distances for \"\n",
      "/opt/anaconda3/lib/python3.8/site-packages/sklearn/metrics/pairwise.py:1460: FutureWarning: from version 0.25, pairwise_distances for metric='mahalanobis' will require VI to be specified if Y is passed.\n",
      "  warnings.warn(\"from version 0.25, pairwise_distances for \"\n",
      "/opt/anaconda3/lib/python3.8/site-packages/sklearn/metrics/pairwise.py:1460: FutureWarning: from version 0.25, pairwise_distances for metric='mahalanobis' will require VI to be specified if Y is passed.\n",
      "  warnings.warn(\"from version 0.25, pairwise_distances for \"\n",
      "/opt/anaconda3/lib/python3.8/site-packages/sklearn/metrics/pairwise.py:1460: FutureWarning: from version 0.25, pairwise_distances for metric='mahalanobis' will require VI to be specified if Y is passed.\n",
      "  warnings.warn(\"from version 0.25, pairwise_distances for \"\n",
      "/opt/anaconda3/lib/python3.8/site-packages/sklearn/metrics/pairwise.py:1460: FutureWarning: from version 0.25, pairwise_distances for metric='mahalanobis' will require VI to be specified if Y is passed.\n",
      "  warnings.warn(\"from version 0.25, pairwise_distances for \"\n",
      "/opt/anaconda3/lib/python3.8/site-packages/sklearn/metrics/pairwise.py:1460: FutureWarning: from version 0.25, pairwise_distances for metric='mahalanobis' will require VI to be specified if Y is passed.\n",
      "  warnings.warn(\"from version 0.25, pairwise_distances for \"\n",
      "/opt/anaconda3/lib/python3.8/site-packages/sklearn/metrics/pairwise.py:1460: FutureWarning: from version 0.25, pairwise_distances for metric='mahalanobis' will require VI to be specified if Y is passed.\n",
      "  warnings.warn(\"from version 0.25, pairwise_distances for \"\n",
      "/opt/anaconda3/lib/python3.8/site-packages/sklearn/metrics/pairwise.py:1460: FutureWarning: from version 0.25, pairwise_distances for metric='mahalanobis' will require VI to be specified if Y is passed.\n",
      "  warnings.warn(\"from version 0.25, pairwise_distances for \"\n",
      "/opt/anaconda3/lib/python3.8/site-packages/sklearn/metrics/pairwise.py:1460: FutureWarning: from version 0.25, pairwise_distances for metric='mahalanobis' will require VI to be specified if Y is passed.\n",
      "  warnings.warn(\"from version 0.25, pairwise_distances for \"\n"
     ]
    },
    {
     "name": "stdout",
     "output_type": "stream",
     "text": [
      "k is 156 test error is 0.30000000000000004\n",
      "k is 161 test error is 0.30000000000000004\n",
      "k is 166 test error is 0.30000000000000004\n",
      "k is 171 test error is 0.30000000000000004\n",
      "k is 176 test error is 0.30000000000000004\n",
      "k is 181 test error is 0.30000000000000004\n",
      "k is 186 test error is 0.30000000000000004\n",
      "k is 191 test error is 0.30000000000000004\n",
      "k is 196 test error is 0.30000000000000004\n"
     ]
    },
    {
     "name": "stderr",
     "output_type": "stream",
     "text": [
      "/opt/anaconda3/lib/python3.8/site-packages/sklearn/metrics/pairwise.py:1460: FutureWarning: from version 0.25, pairwise_distances for metric='mahalanobis' will require VI to be specified if Y is passed.\n",
      "  warnings.warn(\"from version 0.25, pairwise_distances for \"\n",
      "/opt/anaconda3/lib/python3.8/site-packages/sklearn/metrics/pairwise.py:1460: FutureWarning: from version 0.25, pairwise_distances for metric='mahalanobis' will require VI to be specified if Y is passed.\n",
      "  warnings.warn(\"from version 0.25, pairwise_distances for \"\n",
      "/opt/anaconda3/lib/python3.8/site-packages/sklearn/metrics/pairwise.py:1460: FutureWarning: from version 0.25, pairwise_distances for metric='mahalanobis' will require VI to be specified if Y is passed.\n",
      "  warnings.warn(\"from version 0.25, pairwise_distances for \"\n",
      "/opt/anaconda3/lib/python3.8/site-packages/sklearn/metrics/pairwise.py:1460: FutureWarning: from version 0.25, pairwise_distances for metric='mahalanobis' will require VI to be specified if Y is passed.\n",
      "  warnings.warn(\"from version 0.25, pairwise_distances for \"\n",
      "/opt/anaconda3/lib/python3.8/site-packages/sklearn/metrics/pairwise.py:1460: FutureWarning: from version 0.25, pairwise_distances for metric='mahalanobis' will require VI to be specified if Y is passed.\n",
      "  warnings.warn(\"from version 0.25, pairwise_distances for \"\n",
      "/opt/anaconda3/lib/python3.8/site-packages/sklearn/metrics/pairwise.py:1460: FutureWarning: from version 0.25, pairwise_distances for metric='mahalanobis' will require VI to be specified if Y is passed.\n",
      "  warnings.warn(\"from version 0.25, pairwise_distances for \"\n",
      "/opt/anaconda3/lib/python3.8/site-packages/sklearn/metrics/pairwise.py:1460: FutureWarning: from version 0.25, pairwise_distances for metric='mahalanobis' will require VI to be specified if Y is passed.\n",
      "  warnings.warn(\"from version 0.25, pairwise_distances for \"\n",
      "/opt/anaconda3/lib/python3.8/site-packages/sklearn/metrics/pairwise.py:1460: FutureWarning: from version 0.25, pairwise_distances for metric='mahalanobis' will require VI to be specified if Y is passed.\n",
      "  warnings.warn(\"from version 0.25, pairwise_distances for \"\n",
      "/opt/anaconda3/lib/python3.8/site-packages/sklearn/metrics/pairwise.py:1460: FutureWarning: from version 0.25, pairwise_distances for metric='mahalanobis' will require VI to be specified if Y is passed.\n",
      "  warnings.warn(\"from version 0.25, pairwise_distances for \"\n",
      "/opt/anaconda3/lib/python3.8/site-packages/sklearn/metrics/pairwise.py:1460: FutureWarning: from version 0.25, pairwise_distances for metric='mahalanobis' will require VI to be specified if Y is passed.\n",
      "  warnings.warn(\"from version 0.25, pairwise_distances for \"\n",
      "/opt/anaconda3/lib/python3.8/site-packages/sklearn/metrics/pairwise.py:1460: FutureWarning: from version 0.25, pairwise_distances for metric='mahalanobis' will require VI to be specified if Y is passed.\n",
      "  warnings.warn(\"from version 0.25, pairwise_distances for \"\n",
      "/opt/anaconda3/lib/python3.8/site-packages/sklearn/metrics/pairwise.py:1460: FutureWarning: from version 0.25, pairwise_distances for metric='mahalanobis' will require VI to be specified if Y is passed.\n",
      "  warnings.warn(\"from version 0.25, pairwise_distances for \"\n",
      "/opt/anaconda3/lib/python3.8/site-packages/sklearn/metrics/pairwise.py:1460: FutureWarning: from version 0.25, pairwise_distances for metric='mahalanobis' will require VI to be specified if Y is passed.\n",
      "  warnings.warn(\"from version 0.25, pairwise_distances for \"\n",
      "/opt/anaconda3/lib/python3.8/site-packages/sklearn/metrics/pairwise.py:1460: FutureWarning: from version 0.25, pairwise_distances for metric='mahalanobis' will require VI to be specified if Y is passed.\n",
      "  warnings.warn(\"from version 0.25, pairwise_distances for \"\n",
      "/opt/anaconda3/lib/python3.8/site-packages/sklearn/metrics/pairwise.py:1460: FutureWarning: from version 0.25, pairwise_distances for metric='mahalanobis' will require VI to be specified if Y is passed.\n",
      "  warnings.warn(\"from version 0.25, pairwise_distances for \"\n",
      "/opt/anaconda3/lib/python3.8/site-packages/sklearn/metrics/pairwise.py:1460: FutureWarning: from version 0.25, pairwise_distances for metric='mahalanobis' will require VI to be specified if Y is passed.\n",
      "  warnings.warn(\"from version 0.25, pairwise_distances for \"\n"
     ]
    }
   ],
   "source": [
    "for i in range(40):\n",
    "    k=1+5*i\n",
    "    model_d3 = KNeighborsClassifier(n_neighbors=k, metric='mahalanobis',metric_params={'V': np.cov(X_train, rowvar=False)})\n",
    "    n_d3.append(k)\n",
    "    model_d3.fit(X_train,y_train)\n",
    "    y_pred_d3=model_d3.predict(X_test)\n",
    "    test_acc_score_d3=accuracy_score(y_pred_d3,y_test)\n",
    "    t_error=1-test_acc_score_d3\n",
    "    test_error_d3.append(t_error)\n",
    "    test_error_dic_d3[k]=t_error\n",
    "    y_pred_d5=model_d3.predict(X_train)\n",
    "    train_acc_score_d5=accuracy_score(y_pred_d5,y_train)\n",
    "    train_er_d5=1-train_acc_score_d5\n",
    "    train_error.append(train_er_d5)\n",
    "    print('k is', k, 'test error is', t_error)"
   ]
  },
  {
   "cell_type": "code",
   "execution_count": 130,
   "metadata": {},
   "outputs": [
    {
     "data": {
      "text/plain": [
       "0.17000000000000004"
      ]
     },
     "execution_count": 130,
     "metadata": {},
     "output_type": "execute_result"
    }
   ],
   "source": [
    "min_ter_d3=min(test_error_d3)\n",
    "min_ter_d3"
   ]
  },
  {
   "cell_type": "code",
   "execution_count": 131,
   "metadata": {},
   "outputs": [
    {
     "name": "stdout",
     "output_type": "stream",
     "text": [
      "the min_test_error is 0.17000000000000004 the best k is [1, 6]\n"
     ]
    }
   ],
   "source": [
    "k_best3=get_key(test_error_dic_d3,min_ter_d3)\n",
    "print('the min_test_error is',min_ter_d3,'the best k is',k_best3)"
   ]
  },
  {
   "cell_type": "markdown",
   "metadata": {},
   "source": [
    "# Question E"
   ]
  },
  {
   "cell_type": "code",
   "execution_count": 132,
   "metadata": {},
   "outputs": [],
   "source": [
    "test_error_e=[]\n",
    "n_e=[]\n",
    "test_error_dic_e={}"
   ]
  },
  {
   "cell_type": "code",
   "execution_count": 133,
   "metadata": {},
   "outputs": [
    {
     "name": "stdout",
     "output_type": "stream",
     "text": [
      "k is 1 test error is 0.13\n",
      "k is 6 test error is 0.09999999999999998\n",
      "k is 11 test error is 0.12\n",
      "k is 16 test error is 0.10999999999999999\n",
      "k is 21 test error is 0.10999999999999999\n",
      "k is 26 test error is 0.10999999999999999\n",
      "k is 31 test error is 0.10999999999999999\n",
      "k is 36 test error is 0.10999999999999999\n",
      "k is 41 test error is 0.10999999999999999\n",
      "k is 46 test error is 0.10999999999999999\n",
      "k is 51 test error is 0.10999999999999999\n",
      "k is 56 test error is 0.10999999999999999\n",
      "k is 61 test error is 0.10999999999999999\n",
      "k is 66 test error is 0.10999999999999999\n",
      "k is 71 test error is 0.10999999999999999\n",
      "k is 76 test error is 0.12\n",
      "k is 81 test error is 0.13\n",
      "k is 86 test error is 0.13\n",
      "k is 91 test error is 0.14\n",
      "k is 96 test error is 0.14\n",
      "k is 101 test error is 0.12\n",
      "k is 106 test error is 0.14\n",
      "k is 111 test error is 0.14\n",
      "k is 116 test error is 0.13\n",
      "k is 121 test error is 0.13\n",
      "k is 126 test error is 0.13\n",
      "k is 131 test error is 0.14\n",
      "k is 136 test error is 0.14\n",
      "k is 141 test error is 0.17000000000000004\n",
      "k is 146 test error is 0.18999999999999995\n",
      "k is 151 test error is 0.18999999999999995\n",
      "k is 156 test error is 0.19999999999999996\n",
      "k is 161 test error is 0.22999999999999998\n",
      "k is 166 test error is 0.25\n",
      "k is 171 test error is 0.27\n",
      "k is 176 test error is 0.27\n",
      "k is 181 test error is 0.27\n",
      "k is 186 test error is 0.27\n",
      "k is 191 test error is 0.28\n",
      "k is 196 test error is 0.28\n"
     ]
    }
   ],
   "source": [
    "for i in range(40):\n",
    "    k=1+5*i\n",
    "    model_e = KNeighborsClassifier(n_neighbors=k, metric='euclidean',weights='distance')\n",
    "    n_e.append(k)\n",
    "    model_e.fit(X_train,y_train)\n",
    "    y_pred_e=model_e.predict(X_test)\n",
    "    test_acc_score_e=accuracy_score(y_pred_e,y_test)\n",
    "    t_error=1-test_acc_score_e\n",
    "    test_error_e.append(t_error)\n",
    "    test_error_dic_e[k]=t_error\n",
    "    y_pred_d6=model_e.predict(X_train)\n",
    "    train_acc_score_d6=accuracy_score(y_pred_d6,y_train)\n",
    "    train_er_d6=1-train_acc_score_d6\n",
    "    train_error.append(train_er_d6)\n",
    "    print('k is', k, 'test error is', t_error)"
   ]
  },
  {
   "cell_type": "code",
   "execution_count": 134,
   "metadata": {},
   "outputs": [
    {
     "data": {
      "text/plain": [
       "0.09999999999999998"
      ]
     },
     "execution_count": 134,
     "metadata": {},
     "output_type": "execute_result"
    }
   ],
   "source": [
    "min_ter_e=min(test_error_e)\n",
    "min_ter_e"
   ]
  },
  {
   "cell_type": "code",
   "execution_count": 135,
   "metadata": {},
   "outputs": [
    {
     "name": "stdout",
     "output_type": "stream",
     "text": [
      "With  Euclidean, the min_test_error is 0.09999999999999998 the best k is [6]\n"
     ]
    }
   ],
   "source": [
    "k_best_e=get_key(test_error_dic_e,min_ter_e)\n",
    "print('With  Euclidean, the min_test_error is',min_ter_e,'the best k is',k_best_e)"
   ]
  },
  {
   "cell_type": "code",
   "execution_count": 136,
   "metadata": {},
   "outputs": [],
   "source": [
    "test_error_e1=[]\n",
    "n_e1=[]\n",
    "test_error_dic_e1={}"
   ]
  },
  {
   "cell_type": "code",
   "execution_count": 137,
   "metadata": {},
   "outputs": [
    {
     "name": "stdout",
     "output_type": "stream",
     "text": [
      "k is 1 test error is 0.12\n",
      "k is 6 test error is 0.10999999999999999\n",
      "k is 11 test error is 0.10999999999999999\n",
      "k is 16 test error is 0.12\n",
      "k is 21 test error is 0.10999999999999999\n",
      "k is 26 test error is 0.09999999999999998\n",
      "k is 31 test error is 0.10999999999999999\n",
      "k is 36 test error is 0.10999999999999999\n",
      "k is 41 test error is 0.10999999999999999\n",
      "k is 46 test error is 0.10999999999999999\n",
      "k is 51 test error is 0.12\n",
      "k is 56 test error is 0.12\n",
      "k is 61 test error is 0.13\n",
      "k is 66 test error is 0.13\n",
      "k is 71 test error is 0.10999999999999999\n",
      "k is 76 test error is 0.12\n",
      "k is 81 test error is 0.14\n",
      "k is 86 test error is 0.14\n",
      "k is 91 test error is 0.13\n",
      "k is 96 test error is 0.13\n",
      "k is 101 test error is 0.15000000000000002\n",
      "k is 106 test error is 0.15000000000000002\n",
      "k is 111 test error is 0.15000000000000002\n",
      "k is 116 test error is 0.15000000000000002\n",
      "k is 121 test error is 0.15000000000000002\n",
      "k is 126 test error is 0.15000000000000002\n",
      "k is 131 test error is 0.15000000000000002\n",
      "k is 136 test error is 0.16000000000000003\n",
      "k is 141 test error is 0.17000000000000004\n",
      "k is 146 test error is 0.18000000000000005\n",
      "k is 151 test error is 0.18999999999999995\n",
      "k is 156 test error is 0.20999999999999996\n",
      "k is 161 test error is 0.24\n",
      "k is 166 test error is 0.25\n",
      "k is 171 test error is 0.27\n",
      "k is 176 test error is 0.27\n",
      "k is 181 test error is 0.27\n",
      "k is 186 test error is 0.27\n",
      "k is 191 test error is 0.28\n",
      "k is 196 test error is 0.29000000000000004\n"
     ]
    }
   ],
   "source": [
    "for i in range(40):\n",
    "    k=1+5*i\n",
    "    model_e1=KNeighborsClassifier(n_neighbors=k,metric='manhattan',weights='distance')\n",
    "    n_e1.append(k)\n",
    "    model_e1.fit(X_train,y_train)\n",
    "    y_pred_e1=model_e1.predict(X_test)\n",
    "    test_acc_score_e1=accuracy_score(y_pred_e1,y_test)\n",
    "    t_error=1-test_acc_score_e1\n",
    "    test_error_e1.append(t_error)\n",
    "    test_error_dic_e1[k]=t_error\n",
    "    y_pred_d7=model_e1.predict(X_train)\n",
    "    train_acc_score_d7=accuracy_score(y_pred_d7,y_train)\n",
    "    train_er_d7=1-train_acc_score_d7\n",
    "    train_error.append(train_er_d7)\n",
    "    print('k is', k, 'test error is', t_error)"
   ]
  },
  {
   "cell_type": "code",
   "execution_count": 138,
   "metadata": {},
   "outputs": [
    {
     "data": {
      "text/plain": [
       "0.09999999999999998"
      ]
     },
     "execution_count": 138,
     "metadata": {},
     "output_type": "execute_result"
    }
   ],
   "source": [
    "min_ter_e1=min(test_error_e1)\n",
    "min_ter_e1"
   ]
  },
  {
   "cell_type": "code",
   "execution_count": 139,
   "metadata": {},
   "outputs": [
    {
     "name": "stdout",
     "output_type": "stream",
     "text": [
      "With Manhattan, the min_test_error is 0.09999999999999998 the best k is [26]\n"
     ]
    }
   ],
   "source": [
    "k_best_e1=get_key(test_error_dic_e1,min_ter_e1)\n",
    "print('With Manhattan, the min_test_error is',min_ter_e1,'the best k is',k_best_e1)"
   ]
  },
  {
   "cell_type": "code",
   "execution_count": 140,
   "metadata": {},
   "outputs": [],
   "source": [
    "test_error_e2=[]\n",
    "n_e2=[]\n",
    "test_error_dic_e2={}"
   ]
  },
  {
   "cell_type": "code",
   "execution_count": 141,
   "metadata": {
    "scrolled": true
   },
   "outputs": [
    {
     "name": "stdout",
     "output_type": "stream",
     "text": [
      "k is 1 test error is 0.13\n",
      "k is 6 test error is 0.13\n",
      "k is 11 test error is 0.12\n",
      "k is 16 test error is 0.10999999999999999\n",
      "k is 21 test error is 0.12\n",
      "k is 26 test error is 0.12\n",
      "k is 31 test error is 0.10999999999999999\n",
      "k is 36 test error is 0.10999999999999999\n",
      "k is 41 test error is 0.10999999999999999\n",
      "k is 46 test error is 0.12\n",
      "k is 51 test error is 0.12\n",
      "k is 56 test error is 0.12\n",
      "k is 61 test error is 0.10999999999999999\n",
      "k is 66 test error is 0.13\n",
      "k is 71 test error is 0.12\n",
      "k is 76 test error is 0.12\n",
      "k is 81 test error is 0.12\n",
      "k is 86 test error is 0.14\n",
      "k is 91 test error is 0.13\n",
      "k is 96 test error is 0.14\n",
      "k is 101 test error is 0.14\n",
      "k is 106 test error is 0.14\n",
      "k is 111 test error is 0.14\n",
      "k is 116 test error is 0.14\n",
      "k is 121 test error is 0.15000000000000002\n",
      "k is 126 test error is 0.14\n",
      "k is 131 test error is 0.16000000000000003\n",
      "k is 136 test error is 0.16000000000000003\n",
      "k is 141 test error is 0.18000000000000005\n",
      "k is 146 test error is 0.18999999999999995\n",
      "k is 151 test error is 0.20999999999999996\n",
      "k is 156 test error is 0.20999999999999996\n",
      "k is 161 test error is 0.22999999999999998\n",
      "k is 166 test error is 0.26\n",
      "k is 171 test error is 0.26\n",
      "k is 176 test error is 0.26\n",
      "k is 181 test error is 0.27\n",
      "k is 186 test error is 0.27\n",
      "k is 191 test error is 0.27\n",
      "k is 196 test error is 0.28\n"
     ]
    }
   ],
   "source": [
    "for i in range(40):\n",
    "    k=1+5*i\n",
    "    model_e2=KNeighborsClassifier(n_neighbors=k,metric='chebyshev',weights='distance')\n",
    "    n_e2.append(k)\n",
    "    model_e2.fit(X_train,y_train)\n",
    "    y_pred_e2=model_e2.predict(X_test)\n",
    "    test_acc_score_e2=accuracy_score(y_pred_e2,y_test)\n",
    "    t_error=1-test_acc_score_e2\n",
    "    test_error_e2.append(t_error)\n",
    "    test_error_dic_e2[k]=t_error\n",
    "    y_pred_d8=model_e2.predict(X_train)\n",
    "    train_acc_score_d8=accuracy_score(y_pred_d8,y_train)\n",
    "    train_er_d8=1-train_acc_score_d8\n",
    "    train_error.append(train_er_d8)\n",
    "    print('k is', k, 'test error is', t_error)"
   ]
  },
  {
   "cell_type": "code",
   "execution_count": 142,
   "metadata": {},
   "outputs": [
    {
     "data": {
      "text/plain": [
       "0.10999999999999999"
      ]
     },
     "execution_count": 142,
     "metadata": {},
     "output_type": "execute_result"
    }
   ],
   "source": [
    "min_ter_e2=min(test_error_e2)\n",
    "min_ter_e2"
   ]
  },
  {
   "cell_type": "code",
   "execution_count": 143,
   "metadata": {},
   "outputs": [
    {
     "name": "stdout",
     "output_type": "stream",
     "text": [
      "With  Chebyshev, the min_test_error is 0.10999999999999999 the best k is [16, 31, 36, 41, 61]\n"
     ]
    }
   ],
   "source": [
    "k_best_e2=get_key(test_error_dic_e2,min_ter_e2)\n",
    "print('With  Chebyshev, the min_test_error is',min_ter_e2,'the best k is',k_best_e2)"
   ]
  },
  {
   "cell_type": "markdown",
   "metadata": {},
   "source": [
    "# Question F"
   ]
  },
  {
   "cell_type": "code",
   "execution_count": 144,
   "metadata": {},
   "outputs": [
    {
     "name": "stdout",
     "output_type": "stream",
     "text": [
      "the lowest training error rate is  0.0\n"
     ]
    }
   ],
   "source": [
    "m_train_error=min(train_error)\n",
    "print('the lowest training error rate is ',m_train_error)"
   ]
  }
 ],
 "metadata": {
  "kernelspec": {
   "display_name": "Python 3",
   "language": "python",
   "name": "python3"
  },
  "language_info": {
   "codemirror_mode": {
    "name": "ipython",
    "version": 3
   },
   "file_extension": ".py",
   "mimetype": "text/x-python",
   "name": "python",
   "nbconvert_exporter": "python",
   "pygments_lexer": "ipython3",
   "version": "3.8.5"
  }
 },
 "nbformat": 4,
 "nbformat_minor": 4
}
